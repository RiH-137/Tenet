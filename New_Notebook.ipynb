{
 "cells": [
  {
   "cell_type": "code",
   "execution_count": 1,
   "id": "789d0ed6-8cc7-4c90-a66d-c3625ae72b32",
   "metadata": {},
   "outputs": [],
   "source": [
    "import numpy as np\n",
    "import pandas as pd\n",
    "import matplotlib.pyplot as plt\n",
    "import seaborn as sns"
   ]
  },
  {
   "cell_type": "code",
   "execution_count": 2,
   "id": "565786cd-9666-4265-b141-8dfde755644e",
   "metadata": {},
   "outputs": [
    {
     "name": "stdout",
     "output_type": "stream",
     "text": [
      "Requirement already satisfied: tensorflow in c:\\program files\\drag software\\anaconda\\lib\\site-packages (2.17.0)\n",
      "Requirement already satisfied: opencv-python in c:\\program files\\drag software\\anaconda\\lib\\site-packages (4.10.0.84)\n",
      "Requirement already satisfied: moviepy in c:\\program files\\drag software\\anaconda\\lib\\site-packages (1.0.3)\n",
      "Requirement already satisfied: scikit-learn in c:\\program files\\drag software\\anaconda\\lib\\site-packages (1.4.2)\n",
      "Requirement already satisfied: tensorflow-intel==2.17.0 in c:\\program files\\drag software\\anaconda\\lib\\site-packages (from tensorflow) (2.17.0)\n",
      "Requirement already satisfied: absl-py>=1.0.0 in c:\\program files\\drag software\\anaconda\\lib\\site-packages (from tensorflow-intel==2.17.0->tensorflow) (2.1.0)\n",
      "Requirement already satisfied: astunparse>=1.6.0 in c:\\program files\\drag software\\anaconda\\lib\\site-packages (from tensorflow-intel==2.17.0->tensorflow) (1.6.3)\n",
      "Requirement already satisfied: flatbuffers>=24.3.25 in c:\\program files\\drag software\\anaconda\\lib\\site-packages (from tensorflow-intel==2.17.0->tensorflow) (24.3.25)\n",
      "Requirement already satisfied: gast!=0.5.0,!=0.5.1,!=0.5.2,>=0.2.1 in c:\\program files\\drag software\\anaconda\\lib\\site-packages (from tensorflow-intel==2.17.0->tensorflow) (0.6.0)\n",
      "Requirement already satisfied: google-pasta>=0.1.1 in c:\\program files\\drag software\\anaconda\\lib\\site-packages (from tensorflow-intel==2.17.0->tensorflow) (0.2.0)\n",
      "Requirement already satisfied: h5py>=3.10.0 in c:\\program files\\drag software\\anaconda\\lib\\site-packages (from tensorflow-intel==2.17.0->tensorflow) (3.11.0)\n",
      "Requirement already satisfied: libclang>=13.0.0 in c:\\program files\\drag software\\anaconda\\lib\\site-packages (from tensorflow-intel==2.17.0->tensorflow) (18.1.1)\n",
      "Requirement already satisfied: ml-dtypes<0.5.0,>=0.3.1 in c:\\program files\\drag software\\anaconda\\lib\\site-packages (from tensorflow-intel==2.17.0->tensorflow) (0.4.0)\n",
      "Requirement already satisfied: opt-einsum>=2.3.2 in c:\\program files\\drag software\\anaconda\\lib\\site-packages (from tensorflow-intel==2.17.0->tensorflow) (3.3.0)\n",
      "Requirement already satisfied: packaging in c:\\program files\\drag software\\anaconda\\lib\\site-packages (from tensorflow-intel==2.17.0->tensorflow) (23.2)\n",
      "Requirement already satisfied: protobuf!=4.21.0,!=4.21.1,!=4.21.2,!=4.21.3,!=4.21.4,!=4.21.5,<5.0.0dev,>=3.20.3 in c:\\program files\\drag software\\anaconda\\lib\\site-packages (from tensorflow-intel==2.17.0->tensorflow) (4.25.4)\n",
      "Requirement already satisfied: requests<3,>=2.21.0 in c:\\program files\\drag software\\anaconda\\lib\\site-packages (from tensorflow-intel==2.17.0->tensorflow) (2.32.2)\n",
      "Requirement already satisfied: setuptools in c:\\program files\\drag software\\anaconda\\lib\\site-packages (from tensorflow-intel==2.17.0->tensorflow) (69.5.1)\n",
      "Requirement already satisfied: six>=1.12.0 in c:\\program files\\drag software\\anaconda\\lib\\site-packages (from tensorflow-intel==2.17.0->tensorflow) (1.16.0)\n",
      "Requirement already satisfied: termcolor>=1.1.0 in c:\\program files\\drag software\\anaconda\\lib\\site-packages (from tensorflow-intel==2.17.0->tensorflow) (2.4.0)\n",
      "Requirement already satisfied: typing-extensions>=3.6.6 in c:\\program files\\drag software\\anaconda\\lib\\site-packages (from tensorflow-intel==2.17.0->tensorflow) (4.11.0)\n",
      "Requirement already satisfied: wrapt>=1.11.0 in c:\\program files\\drag software\\anaconda\\lib\\site-packages (from tensorflow-intel==2.17.0->tensorflow) (1.14.1)\n",
      "Requirement already satisfied: grpcio<2.0,>=1.24.3 in c:\\program files\\drag software\\anaconda\\lib\\site-packages (from tensorflow-intel==2.17.0->tensorflow) (1.65.5)\n",
      "Requirement already satisfied: tensorboard<2.18,>=2.17 in c:\\program files\\drag software\\anaconda\\lib\\site-packages (from tensorflow-intel==2.17.0->tensorflow) (2.17.1)\n",
      "Requirement already satisfied: keras>=3.2.0 in c:\\program files\\drag software\\anaconda\\lib\\site-packages (from tensorflow-intel==2.17.0->tensorflow) (3.5.0)\n",
      "Requirement already satisfied: numpy<2.0.0,>=1.26.0 in c:\\program files\\drag software\\anaconda\\lib\\site-packages (from tensorflow-intel==2.17.0->tensorflow) (1.26.4)\n",
      "Requirement already satisfied: decorator<5.0,>=4.0.2 in c:\\program files\\drag software\\anaconda\\lib\\site-packages (from moviepy) (4.4.2)\n",
      "Requirement already satisfied: tqdm<5.0,>=4.11.2 in c:\\program files\\drag software\\anaconda\\lib\\site-packages (from moviepy) (4.66.4)\n",
      "Requirement already satisfied: proglog<=1.0.0 in c:\\program files\\drag software\\anaconda\\lib\\site-packages (from moviepy) (0.1.10)\n",
      "Requirement already satisfied: imageio<3.0,>=2.5 in c:\\program files\\drag software\\anaconda\\lib\\site-packages (from moviepy) (2.33.1)\n",
      "Requirement already satisfied: imageio-ffmpeg>=0.2.0 in c:\\program files\\drag software\\anaconda\\lib\\site-packages (from moviepy) (0.5.1)\n",
      "Requirement already satisfied: scipy>=1.6.0 in c:\\program files\\drag software\\anaconda\\lib\\site-packages (from scikit-learn) (1.13.1)\n",
      "Requirement already satisfied: joblib>=1.2.0 in c:\\program files\\drag software\\anaconda\\lib\\site-packages (from scikit-learn) (1.4.2)\n",
      "Requirement already satisfied: threadpoolctl>=2.0.0 in c:\\program files\\drag software\\anaconda\\lib\\site-packages (from scikit-learn) (2.2.0)\n",
      "Requirement already satisfied: pillow>=8.3.2 in c:\\program files\\drag software\\anaconda\\lib\\site-packages (from imageio<3.0,>=2.5->moviepy) (10.3.0)\n",
      "Requirement already satisfied: charset-normalizer<4,>=2 in c:\\program files\\drag software\\anaconda\\lib\\site-packages (from requests<3,>=2.21.0->tensorflow-intel==2.17.0->tensorflow) (2.0.4)\n",
      "Requirement already satisfied: idna<4,>=2.5 in c:\\program files\\drag software\\anaconda\\lib\\site-packages (from requests<3,>=2.21.0->tensorflow-intel==2.17.0->tensorflow) (3.7)\n",
      "Requirement already satisfied: urllib3<3,>=1.21.1 in c:\\program files\\drag software\\anaconda\\lib\\site-packages (from requests<3,>=2.21.0->tensorflow-intel==2.17.0->tensorflow) (2.2.2)\n",
      "Requirement already satisfied: certifi>=2017.4.17 in c:\\program files\\drag software\\anaconda\\lib\\site-packages (from requests<3,>=2.21.0->tensorflow-intel==2.17.0->tensorflow) (2024.6.2)\n",
      "Requirement already satisfied: colorama in c:\\program files\\drag software\\anaconda\\lib\\site-packages (from tqdm<5.0,>=4.11.2->moviepy) (0.4.6)\n",
      "Requirement already satisfied: wheel<1.0,>=0.23.0 in c:\\program files\\drag software\\anaconda\\lib\\site-packages (from astunparse>=1.6.0->tensorflow-intel==2.17.0->tensorflow) (0.43.0)\n",
      "Requirement already satisfied: rich in c:\\program files\\drag software\\anaconda\\lib\\site-packages (from keras>=3.2.0->tensorflow-intel==2.17.0->tensorflow) (13.3.5)\n",
      "Requirement already satisfied: namex in c:\\program files\\drag software\\anaconda\\lib\\site-packages (from keras>=3.2.0->tensorflow-intel==2.17.0->tensorflow) (0.0.8)\n",
      "Requirement already satisfied: optree in c:\\program files\\drag software\\anaconda\\lib\\site-packages (from keras>=3.2.0->tensorflow-intel==2.17.0->tensorflow) (0.12.1)\n",
      "Requirement already satisfied: markdown>=2.6.8 in c:\\program files\\drag software\\anaconda\\lib\\site-packages (from tensorboard<2.18,>=2.17->tensorflow-intel==2.17.0->tensorflow) (3.4.1)\n",
      "Requirement already satisfied: tensorboard-data-server<0.8.0,>=0.7.0 in c:\\program files\\drag software\\anaconda\\lib\\site-packages (from tensorboard<2.18,>=2.17->tensorflow-intel==2.17.0->tensorflow) (0.7.2)\n",
      "Requirement already satisfied: werkzeug>=1.0.1 in c:\\program files\\drag software\\anaconda\\lib\\site-packages (from tensorboard<2.18,>=2.17->tensorflow-intel==2.17.0->tensorflow) (3.0.3)\n",
      "Requirement already satisfied: MarkupSafe>=2.1.1 in c:\\program files\\drag software\\anaconda\\lib\\site-packages (from werkzeug>=1.0.1->tensorboard<2.18,>=2.17->tensorflow-intel==2.17.0->tensorflow) (2.1.3)\n",
      "Requirement already satisfied: markdown-it-py<3.0.0,>=2.2.0 in c:\\program files\\drag software\\anaconda\\lib\\site-packages (from rich->keras>=3.2.0->tensorflow-intel==2.17.0->tensorflow) (2.2.0)\n",
      "Requirement already satisfied: pygments<3.0.0,>=2.13.0 in c:\\program files\\drag software\\anaconda\\lib\\site-packages (from rich->keras>=3.2.0->tensorflow-intel==2.17.0->tensorflow) (2.15.1)\n",
      "Requirement already satisfied: mdurl~=0.1 in c:\\program files\\drag software\\anaconda\\lib\\site-packages (from markdown-it-py<3.0.0,>=2.2.0->rich->keras>=3.2.0->tensorflow-intel==2.17.0->tensorflow) (0.1.0)\n",
      "Note: you may need to restart the kernel to use updated packages.\n"
     ]
    }
   ],
   "source": [
    "pip install tensorflow opencv-python moviepy scikit-learn"
   ]
  },
  {
   "cell_type": "code",
   "execution_count": 3,
   "id": "83e30c89-13a8-4fab-b6dc-dd7faa7ca5cd",
   "metadata": {},
   "outputs": [],
   "source": [
    "import cv2\n",
    "import os"
   ]
  },
  {
   "cell_type": "code",
   "execution_count": 4,
   "id": "2ac80df3-c262-4631-98a5-4bd8d3afb9a8",
   "metadata": {},
   "outputs": [],
   "source": [
    "\n",
    "def extract_frames(video_path, output_folder):\n",
    "    os.makedirs(output_folder, exist_ok=True)\n",
    "    cap = cv2.VideoCapture(video_path)\n",
    "    frame_count = 0\n",
    "    while True:\n",
    "        ret, frame = cap.read()\n",
    "        if not ret:\n",
    "            break\n",
    "        cv2.imwrite(os.path.join(output_folder, f\"frame_{frame_count:04d}.jpg\"), frame)\n",
    "        frame_count += 1\n",
    "    cap.release()\n",
    "\n",
    "# Example usage\n",
    "extract_frames(r\"C:\\Users\\101ri\\OneDrive\\Desktop\\deep fake detector\\Notebook\\Celeb-real\\id56_0004.mp4\", \"Celeb-real/frames\")\n",
    "extract_frames(r\"C:\\Users\\101ri\\OneDrive\\Desktop\\deep fake detector\\Notebook\\Celeb-synthesis\\id59_id5_0004.mp4\", \"Celeb-synthesis/frames\")\n"
   ]
  },
  {
   "cell_type": "code",
   "execution_count": null,
   "id": "fbf64b50-fd7d-4a3c-86b5-a7401cf291ca",
   "metadata": {},
   "outputs": [],
   "source": []
  },
  {
   "cell_type": "code",
   "execution_count": 5,
   "id": "b0856167-10b8-4cd5-b2bc-332a1be66299",
   "metadata": {},
   "outputs": [],
   "source": [
    "import numpy as np\n",
    "from tensorflow.keras.preprocessing.image import load_img, img_to_array\n",
    "from sklearn.model_selection import train_test_split"
   ]
  },
  {
   "cell_type": "code",
   "execution_count": 6,
   "id": "544ae995-30a3-4cd7-a4f3-c685229d0ac2",
   "metadata": {},
   "outputs": [],
   "source": [
    "\n",
    "def load_images_from_folder(folder, label, image_size=(128, 128)):\n",
    "    images = []\n",
    "    labels = []\n",
    "    for filename in os.listdir(folder):\n",
    "        img_path = os.path.join(folder, filename)\n",
    "        img = load_img(img_path, target_size=image_size)\n",
    "        img_array = img_to_array(img)\n",
    "        images.append(img_array)\n",
    "        labels.append(label)\n",
    "    return images, labels\n",
    "\n",
    "fake_images, fake_labels = load_images_from_folder(\"Celeb-real/frames\", label=0)  # 0 for real\n",
    "real_images, real_labels = load_images_from_folder(\"Celeb-synthesis/frames\", label=1)  # 1 for fake\n",
    "\n",
    "X = np.array(real_images + fake_images)\n",
    "y = np.array(real_labels + fake_labels)\n",
    "\n",
    "X_train, X_test, y_train, y_test = train_test_split(X, y, test_size=0.2, random_state=42)"
   ]
  },
  {
   "cell_type": "code",
   "execution_count": 7,
   "id": "3d7c52fe-6d32-4d6e-8a43-76073b328285",
   "metadata": {},
   "outputs": [
    {
     "data": {
      "text/plain": [
       "array([[[[127., 111.,  88.],\n",
       "         [121., 105.,  79.],\n",
       "         [ 88.,  85.,  68.],\n",
       "         ...,\n",
       "         [ 74.,  65.,  48.],\n",
       "         [ 74.,  65.,  48.],\n",
       "         [ 73.,  64.,  47.]],\n",
       "\n",
       "        [[127., 116.,  94.],\n",
       "         [123., 113.,  88.],\n",
       "         [ 73.,  66.,  50.],\n",
       "         ...,\n",
       "         [ 74.,  65.,  48.],\n",
       "         [ 74.,  65.,  48.],\n",
       "         [ 73.,  64.,  47.]],\n",
       "\n",
       "        [[124., 112.,  96.],\n",
       "         [126., 115.,  95.],\n",
       "         [ 76.,  69.,  53.],\n",
       "         ...,\n",
       "         [ 74.,  65.,  48.],\n",
       "         [ 74.,  65.,  48.],\n",
       "         [ 73.,  64.,  47.]],\n",
       "\n",
       "        ...,\n",
       "\n",
       "        [[ 35.,  31.,  22.],\n",
       "         [ 34.,  30.,  21.],\n",
       "         [ 27.,  27.,  15.],\n",
       "         ...,\n",
       "         [ 71.,  74.,  53.],\n",
       "         [ 69.,  72.,  51.],\n",
       "         [123., 126., 105.]],\n",
       "\n",
       "        [[ 36.,  32.,  23.],\n",
       "         [ 32.,  28.,  19.],\n",
       "         [ 26.,  26.,  14.],\n",
       "         ...,\n",
       "         [ 75.,  78.,  57.],\n",
       "         [134., 137., 116.],\n",
       "         [138., 141., 120.]],\n",
       "\n",
       "        [[ 36.,  32.,  23.],\n",
       "         [ 32.,  28.,  19.],\n",
       "         [ 26.,  26.,  14.],\n",
       "         ...,\n",
       "         [139., 142., 121.],\n",
       "         [139., 142., 121.],\n",
       "         [114., 117.,  96.]]],\n",
       "\n",
       "\n",
       "       [[[123., 110.,  93.],\n",
       "         [119., 102.,  82.],\n",
       "         [ 90.,  87.,  68.],\n",
       "         ...,\n",
       "         [ 74.,  65.,  48.],\n",
       "         [ 74.,  65.,  48.],\n",
       "         [ 73.,  64.,  47.]],\n",
       "\n",
       "        [[127., 115.,  93.],\n",
       "         [128., 112.,  87.],\n",
       "         [ 75.,  66.,  49.],\n",
       "         ...,\n",
       "         [ 74.,  65.,  48.],\n",
       "         [ 74.,  65.,  48.],\n",
       "         [ 73.,  64.,  47.]],\n",
       "\n",
       "        [[125., 112.,  93.],\n",
       "         [130., 114.,  91.],\n",
       "         [ 77.,  67.,  55.],\n",
       "         ...,\n",
       "         [ 74.,  65.,  48.],\n",
       "         [ 74.,  65.,  48.],\n",
       "         [ 73.,  64.,  47.]],\n",
       "\n",
       "        ...,\n",
       "\n",
       "        [[ 38.,  40.,  29.],\n",
       "         [ 34.,  31.,  22.],\n",
       "         [ 30.,  30.,  22.],\n",
       "         ...,\n",
       "         [ 70.,  73.,  52.],\n",
       "         [ 69.,  72.,  51.],\n",
       "         [121., 124., 103.]],\n",
       "\n",
       "        [[ 34.,  36.,  25.],\n",
       "         [ 34.,  31.,  22.],\n",
       "         [ 30.,  30.,  22.],\n",
       "         ...,\n",
       "         [ 74.,  77.,  56.],\n",
       "         [133., 136., 115.],\n",
       "         [136., 139., 118.]],\n",
       "\n",
       "        [[ 34.,  36.,  25.],\n",
       "         [ 31.,  28.,  19.],\n",
       "         [ 27.,  27.,  19.],\n",
       "         ...,\n",
       "         [143., 146., 125.],\n",
       "         [140., 143., 122.],\n",
       "         [116., 119.,  98.]]],\n",
       "\n",
       "\n",
       "       [[[102., 211., 205.],\n",
       "         [ 95., 205., 196.],\n",
       "         [ 93., 204., 197.],\n",
       "         ...,\n",
       "         [  9., 140., 132.],\n",
       "         [  8., 142., 133.],\n",
       "         [  8., 142., 133.]],\n",
       "\n",
       "        [[101., 210., 204.],\n",
       "         [ 93., 204., 195.],\n",
       "         [ 91., 202., 193.],\n",
       "         ...,\n",
       "         [  8., 142., 133.],\n",
       "         [  8., 144., 134.],\n",
       "         [  7., 142., 135.]],\n",
       "\n",
       "        [[ 98., 209., 202.],\n",
       "         [ 90., 204., 194.],\n",
       "         [ 89., 200., 193.],\n",
       "         ...,\n",
       "         [  8., 142., 133.],\n",
       "         [  8., 145., 137.],\n",
       "         [  8., 145., 137.]],\n",
       "\n",
       "        ...,\n",
       "\n",
       "        [[  5.,  63.,  64.],\n",
       "         [  4.,  65.,  66.],\n",
       "         [  0.,  63.,  68.],\n",
       "         ...,\n",
       "         [ 28.,  69.,  63.],\n",
       "         [ 14.,  73.,  77.],\n",
       "         [  0.,  78.,  79.]],\n",
       "\n",
       "        [[  5.,  63.,  64.],\n",
       "         [  4.,  65.,  66.],\n",
       "         [  2.,  65.,  70.],\n",
       "         ...,\n",
       "         [  1.,  77.,  77.],\n",
       "         [ 12.,  72.,  82.],\n",
       "         [  5.,  72.,  78.]],\n",
       "\n",
       "        [[  5.,  63.,  64.],\n",
       "         [  4.,  65.,  66.],\n",
       "         [  2.,  65.,  70.],\n",
       "         ...,\n",
       "         [  8.,  73.,  77.],\n",
       "         [  3.,  77.,  78.],\n",
       "         [  7.,  70.,  77.]]],\n",
       "\n",
       "\n",
       "       ...,\n",
       "\n",
       "\n",
       "       [[[110., 200., 188.],\n",
       "         [ 99., 195., 191.],\n",
       "         [ 93., 192., 187.],\n",
       "         ...,\n",
       "         [ 10., 140., 128.],\n",
       "         [  9., 139., 127.],\n",
       "         [  6., 134., 121.]],\n",
       "\n",
       "        [[110., 200., 188.],\n",
       "         [ 99., 195., 191.],\n",
       "         [ 93., 192., 187.],\n",
       "         ...,\n",
       "         [ 10., 140., 128.],\n",
       "         [  5., 137., 124.],\n",
       "         [  6., 134., 121.]],\n",
       "\n",
       "        [[109., 199., 187.],\n",
       "         [ 97., 193., 189.],\n",
       "         [ 90., 189., 184.],\n",
       "         ...,\n",
       "         [  7., 137., 125.],\n",
       "         [  3., 135., 122.],\n",
       "         [  7., 133., 121.]],\n",
       "\n",
       "        ...,\n",
       "\n",
       "        [[  2.,  51.,  55.],\n",
       "         [  4.,  47.,  54.],\n",
       "         [  7.,  45.,  54.],\n",
       "         ...,\n",
       "         [ 31.,  31.,  41.],\n",
       "         [ 15.,  39.,  41.],\n",
       "         [ 12.,  35.,  43.]],\n",
       "\n",
       "        [[  2.,  51.,  55.],\n",
       "         [  4.,  47.,  54.],\n",
       "         [  7.,  45.,  54.],\n",
       "         ...,\n",
       "         [ 13.,  35.,  48.],\n",
       "         [ 17.,  33.,  48.],\n",
       "         [ 13.,  36.,  44.]],\n",
       "\n",
       "        [[  2.,  51.,  55.],\n",
       "         [  4.,  47.,  54.],\n",
       "         [  7.,  45.,  54.],\n",
       "         ...,\n",
       "         [ 15.,  35.,  42.],\n",
       "         [ 10.,  38.,  42.],\n",
       "         [ 13.,  36.,  44.]]],\n",
       "\n",
       "\n",
       "       [[[128., 110.,  90.],\n",
       "         [122., 104.,  82.],\n",
       "         [ 88.,  85.,  68.],\n",
       "         ...,\n",
       "         [ 75.,  64.,  46.],\n",
       "         [ 73.,  65.,  46.],\n",
       "         [ 73.,  64.,  47.]],\n",
       "\n",
       "        [[127., 117.,  92.],\n",
       "         [124., 114.,  87.],\n",
       "         [ 73.,  66.,  50.],\n",
       "         ...,\n",
       "         [ 75.,  64.,  46.],\n",
       "         [ 73.,  65.,  46.],\n",
       "         [ 73.,  64.,  47.]],\n",
       "\n",
       "        [[124., 113.,  93.],\n",
       "         [125., 114.,  92.],\n",
       "         [ 75.,  68.,  52.],\n",
       "         ...,\n",
       "         [ 75.,  64.,  46.],\n",
       "         [ 73.,  65.,  46.],\n",
       "         [ 73.,  64.,  47.]],\n",
       "\n",
       "        ...,\n",
       "\n",
       "        [[ 35.,  31.,  22.],\n",
       "         [ 34.,  30.,  21.],\n",
       "         [ 28.,  28.,  16.],\n",
       "         ...,\n",
       "         [ 71.,  74.,  53.],\n",
       "         [ 69.,  72.,  51.],\n",
       "         [123., 126., 105.]],\n",
       "\n",
       "        [[ 36.,  32.,  23.],\n",
       "         [ 32.,  28.,  19.],\n",
       "         [ 26.,  26.,  14.],\n",
       "         ...,\n",
       "         [ 75.,  78.,  57.],\n",
       "         [134., 137., 116.],\n",
       "         [139., 142., 121.]],\n",
       "\n",
       "        [[ 36.,  32.,  23.],\n",
       "         [ 32.,  28.,  19.],\n",
       "         [ 26.,  26.,  14.],\n",
       "         ...,\n",
       "         [139., 142., 121.],\n",
       "         [139., 142., 121.],\n",
       "         [118., 121., 100.]]],\n",
       "\n",
       "\n",
       "       [[[ 15., 159., 150.],\n",
       "         [ 12., 159., 151.],\n",
       "         [ 12., 151., 148.],\n",
       "         ...,\n",
       "         [ 19.,  63.,  66.],\n",
       "         [ 21.,  69.,  69.],\n",
       "         [ 25.,  69.,  68.]],\n",
       "\n",
       "        [[ 15., 159., 150.],\n",
       "         [ 12., 159., 151.],\n",
       "         [ 12., 151., 148.],\n",
       "         ...,\n",
       "         [ 22.,  66.,  69.],\n",
       "         [ 25.,  71.,  71.],\n",
       "         [ 27.,  71.,  70.]],\n",
       "\n",
       "        [[ 15., 159., 150.],\n",
       "         [ 11., 158., 150.],\n",
       "         [ 12., 151., 148.],\n",
       "         ...,\n",
       "         [ 22.,  67.,  70.],\n",
       "         [ 26.,  72.,  72.],\n",
       "         [ 27.,  71.,  70.]],\n",
       "\n",
       "        ...,\n",
       "\n",
       "        [[ 11.,  91.,  92.],\n",
       "         [  4.,  90.,  87.],\n",
       "         [  4.,  85.,  86.],\n",
       "         ...,\n",
       "         [196., 221., 218.],\n",
       "         [187., 232., 229.],\n",
       "         [186., 235., 232.]],\n",
       "\n",
       "        [[ 11.,  91.,  92.],\n",
       "         [  4.,  90.,  87.],\n",
       "         [  4.,  85.,  86.],\n",
       "         ...,\n",
       "         [185., 235., 242.],\n",
       "         [181., 237., 234.],\n",
       "         [185., 235., 232.]],\n",
       "\n",
       "        [[ 11.,  91.,  92.],\n",
       "         [  4.,  90.,  87.],\n",
       "         [  4.,  85.,  86.],\n",
       "         ...,\n",
       "         [194., 231., 237.],\n",
       "         [178., 242., 228.],\n",
       "         [184., 234., 231.]]]], dtype=float32)"
      ]
     },
     "execution_count": 7,
     "metadata": {},
     "output_type": "execute_result"
    }
   ],
   "source": [
    "X_train"
   ]
  },
  {
   "cell_type": "code",
   "execution_count": null,
   "id": "535b1bf1-0c23-4909-aff6-aec823ddc85c",
   "metadata": {},
   "outputs": [],
   "source": []
  },
  {
   "cell_type": "code",
   "execution_count": 8,
   "id": "c77e18cd-9a08-4e3b-afee-bb52e87a0e7f",
   "metadata": {},
   "outputs": [],
   "source": [
    "### frames extraction"
   ]
  },
  {
   "cell_type": "code",
   "execution_count": 9,
   "id": "4f469f49-a733-4e90-b370-7fd75a9cb620",
   "metadata": {},
   "outputs": [],
   "source": [
    "from moviepy.editor import VideoFileClip"
   ]
  },
  {
   "cell_type": "code",
   "execution_count": 10,
   "id": "4d91cc91-f7f6-4092-b9dd-6c205a6327c7",
   "metadata": {},
   "outputs": [],
   "source": [
    "def extract_frames_from_video(video_path, frame_count=30):\n",
    "    clip = VideoFileClip(video_path)\n",
    "    frames = []\n",
    "    duration = clip.duration\n",
    "    for i in range(frame_count):\n",
    "        frame = clip.get_frame(i * duration / frame_count)\n",
    "        frame = cv2.resize(frame, (128, 128))\n",
    "        frames.append(frame)\n",
    "    return np.array(frames)"
   ]
  },
  {
   "cell_type": "code",
   "execution_count": 11,
   "id": "818a7f12-ed0f-4721-b2d2-0afcddba1e7f",
   "metadata": {},
   "outputs": [
    {
     "name": "stdout",
     "output_type": "stream",
     "text": [
      "[[[[ 97   0   0]\n",
      "   [ 95   0   0]\n",
      "   [ 90   1   0]\n",
      "   ...\n",
      "   [ 29  13   7]\n",
      "   [ 29  16   9]\n",
      "   [ 33  20  13]]\n",
      "\n",
      "  [[100   2   1]\n",
      "   [101   3   2]\n",
      "   [ 99   1   2]\n",
      "   ...\n",
      "   [ 29  13   7]\n",
      "   [ 29  16   9]\n",
      "   [ 33  20  13]]\n",
      "\n",
      "  [[ 86   3   0]\n",
      "   [ 87   4   0]\n",
      "   [ 88   2   0]\n",
      "   ...\n",
      "   [ 29  13   7]\n",
      "   [ 29  16   9]\n",
      "   [ 33  20  13]]\n",
      "\n",
      "  ...\n",
      "\n",
      "  [[ 65   0   0]\n",
      "   [ 65   0   0]\n",
      "   [ 65   0   0]\n",
      "   ...\n",
      "   [ 29  11   6]\n",
      "   [ 29  11   6]\n",
      "   [ 29  11   6]]\n",
      "\n",
      "  [[ 65   0   0]\n",
      "   [ 65   0   0]\n",
      "   [ 65   0   0]\n",
      "   ...\n",
      "   [ 29  11   6]\n",
      "   [ 29  11   6]\n",
      "   [ 29  11   6]]\n",
      "\n",
      "  [[ 62   0   0]\n",
      "   [ 62   0   0]\n",
      "   [ 62   0   0]\n",
      "   ...\n",
      "   [ 29  11   6]\n",
      "   [ 31  10   6]\n",
      "   [ 31  10   6]]]\n",
      "\n",
      "\n",
      " [[[ 96   0   0]\n",
      "   [ 97   1   1]\n",
      "   [ 91   0   1]\n",
      "   ...\n",
      "   [ 29  13   7]\n",
      "   [ 31  15   9]\n",
      "   [ 30  19  12]]\n",
      "\n",
      "  [[103   1   3]\n",
      "   [104   2   4]\n",
      "   [ 99   0   1]\n",
      "   ...\n",
      "   [ 29  13   7]\n",
      "   [ 31  15   9]\n",
      "   [ 30  19  12]]\n",
      "\n",
      "  [[ 91   4   1]\n",
      "   [ 90   3   1]\n",
      "   [ 87   3   0]\n",
      "   ...\n",
      "   [ 29  13   7]\n",
      "   [ 31  15   9]\n",
      "   [ 31  20  13]]\n",
      "\n",
      "  ...\n",
      "\n",
      "  [[ 65   0   0]\n",
      "   [ 65   0   0]\n",
      "   [ 65   0   0]\n",
      "   ...\n",
      "   [ 29  11   6]\n",
      "   [ 29  11   6]\n",
      "   [ 29  11   6]]\n",
      "\n",
      "  [[ 65   0   0]\n",
      "   [ 65   0   0]\n",
      "   [ 65   0   0]\n",
      "   ...\n",
      "   [ 29  11   6]\n",
      "   [ 29  11   6]\n",
      "   [ 29  11   6]]\n",
      "\n",
      "  [[ 62   0   0]\n",
      "   [ 62   0   0]\n",
      "   [ 62   0   0]\n",
      "   ...\n",
      "   [ 29  11   6]\n",
      "   [ 31  10   6]\n",
      "   [ 31  10   6]]]\n",
      "\n",
      "\n",
      " [[[100   1   2]\n",
      "   [100   1   2]\n",
      "   [ 90   1   3]\n",
      "   ...\n",
      "   [ 29  13   7]\n",
      "   [ 31  15   9]\n",
      "   [ 30  19  12]]\n",
      "\n",
      "  [[104   4   6]\n",
      "   [104   4   6]\n",
      "   [ 97   1   2]\n",
      "   ...\n",
      "   [ 29  13   7]\n",
      "   [ 31  15   9]\n",
      "   [ 30  19  12]]\n",
      "\n",
      "  [[ 87   2   0]\n",
      "   [ 90   5   2]\n",
      "   [ 86   3   0]\n",
      "   ...\n",
      "   [ 29  13   7]\n",
      "   [ 31  15   9]\n",
      "   [ 31  20  13]]\n",
      "\n",
      "  ...\n",
      "\n",
      "  [[ 65   0   0]\n",
      "   [ 65   0   0]\n",
      "   [ 65   0   0]\n",
      "   ...\n",
      "   [ 29  11   6]\n",
      "   [ 29  11   6]\n",
      "   [ 29  11   6]]\n",
      "\n",
      "  [[ 65   0   0]\n",
      "   [ 65   0   0]\n",
      "   [ 65   0   0]\n",
      "   ...\n",
      "   [ 29  11   6]\n",
      "   [ 29  11   6]\n",
      "   [ 29  11   6]]\n",
      "\n",
      "  [[ 62   0   0]\n",
      "   [ 62   0   0]\n",
      "   [ 63   0   0]\n",
      "   ...\n",
      "   [ 29  11   6]\n",
      "   [ 31  10   6]\n",
      "   [ 31  10   6]]]\n",
      "\n",
      "\n",
      " ...\n",
      "\n",
      "\n",
      " [[[ 16   1  14]\n",
      "   [  5   0  45]\n",
      "   [  6   0  54]\n",
      "   ...\n",
      "   [112  87  67]\n",
      "   [ 72  52  32]\n",
      "   [ 76  51  32]]\n",
      "\n",
      "  [[ 14   1  15]\n",
      "   [  3   0  53]\n",
      "   [  1   0  71]\n",
      "   ...\n",
      "   [113  82  62]\n",
      "   [ 72  52  32]\n",
      "   [ 77  52  33]]\n",
      "\n",
      "  [[ 12   0  15]\n",
      "   [  2   0  58]\n",
      "   [  0   0  75]\n",
      "   ...\n",
      "   [114  81  60]\n",
      "   [ 72  52  32]\n",
      "   [ 77  52  33]]\n",
      "\n",
      "  ...\n",
      "\n",
      "  [[ 46   0   2]\n",
      "   [ 26   0  12]\n",
      "   [ 13   0  11]\n",
      "   ...\n",
      "   [ 41  22  10]\n",
      "   [ 41  20   7]\n",
      "   [ 54  28  16]]\n",
      "\n",
      "  [[ 47   0   1]\n",
      "   [ 29   0   8]\n",
      "   [ 15   0  10]\n",
      "   ...\n",
      "   [ 44  25  13]\n",
      "   [ 41  20   7]\n",
      "   [ 54  28  16]]\n",
      "\n",
      "  [[ 50   0   2]\n",
      "   [ 28   0   6]\n",
      "   [ 12   1  10]\n",
      "   ...\n",
      "   [ 57  36  22]\n",
      "   [ 54  33  20]\n",
      "   [ 61  39  26]]]\n",
      "\n",
      "\n",
      " [[[  2   0  45]\n",
      "   [  0   0  73]\n",
      "   [  1   0  70]\n",
      "   ...\n",
      "   [128  86  69]\n",
      "   [ 72  50  30]\n",
      "   [ 76  52  33]]\n",
      "\n",
      "  [[  0   0  49]\n",
      "   [  0   0  76]\n",
      "   [  0   0  72]\n",
      "   ...\n",
      "   [132  91  73]\n",
      "   [ 70  50  30]\n",
      "   [ 76  52  33]]\n",
      "\n",
      "  [[  3   0  47]\n",
      "   [  0   0  70]\n",
      "   [  0   0  74]\n",
      "   ...\n",
      "   [137  95  78]\n",
      "   [ 70  50  30]\n",
      "   [ 76  52  33]]\n",
      "\n",
      "  ...\n",
      "\n",
      "  [[ 30   0  10]\n",
      "   [ 15   1   6]\n",
      "   [ 12   1  10]\n",
      "   ...\n",
      "   [ 41  20   9]\n",
      "   [ 41  19  11]\n",
      "   [ 41  20   8]]\n",
      "\n",
      "  [[ 29   1   9]\n",
      "   [ 15   0   8]\n",
      "   [ 12   1  10]\n",
      "   ...\n",
      "   [ 41  20   9]\n",
      "   [ 41  20  10]\n",
      "   [ 41  20   7]]\n",
      "\n",
      "  [[ 33   0   6]\n",
      "   [ 11   0   7]\n",
      "   [ 12   1  10]\n",
      "   ...\n",
      "   [ 51  30  15]\n",
      "   [ 45  24  12]\n",
      "   [ 47  26  13]]]\n",
      "\n",
      "\n",
      " [[[  0   0  73]\n",
      "   [  0   0  75]\n",
      "   [  0   0  78]\n",
      "   ...\n",
      "   [106  39  26]\n",
      "   [115  79  61]\n",
      "   [ 74  50  28]]\n",
      "\n",
      "  [[  0   0  73]\n",
      "   [  0   0  76]\n",
      "   [  0   0  79]\n",
      "   ...\n",
      "   [104  39  25]\n",
      "   [114  79  61]\n",
      "   [ 73  50  28]]\n",
      "\n",
      "  [[  2   0  36]\n",
      "   [  2   0  41]\n",
      "   [  5   0  39]\n",
      "   ...\n",
      "   [101  41  25]\n",
      "   [113  82  61]\n",
      "   [ 71  51  28]]\n",
      "\n",
      "  ...\n",
      "\n",
      "  [[ 16   2  10]\n",
      "   [ 12   1  10]\n",
      "   [ 12   1  10]\n",
      "   ...\n",
      "   [ 41  19  11]\n",
      "   [ 42  21  10]\n",
      "   [ 42  21  10]]\n",
      "\n",
      "  [[ 14   0   7]\n",
      "   [ 11   0   9]\n",
      "   [ 13   0  10]\n",
      "   ...\n",
      "   [ 41  20  10]\n",
      "   [ 42  21  10]\n",
      "   [ 42  21  10]]\n",
      "\n",
      "  [[ 11   0   6]\n",
      "   [ 11   0   6]\n",
      "   [ 12   0  11]\n",
      "   ...\n",
      "   [ 47  25  12]\n",
      "   [ 43  22  11]\n",
      "   [ 43  22  11]]]]\n"
     ]
    }
   ],
   "source": [
    "print(extract_frames_from_video(r\"C:\\Users\\101ri\\OneDrive\\Desktop\\deep fake detector\\Notebook\\Celeb-real\\id0_0000.mp4\", 30))"
   ]
  },
  {
   "cell_type": "code",
   "execution_count": null,
   "id": "90cf1506-5e1b-4063-8653-964bc11bcb70",
   "metadata": {},
   "outputs": [],
   "source": []
  },
  {
   "cell_type": "code",
   "execution_count": null,
   "id": "76f98110-ad86-4f4b-9b90-2d55a48cafb9",
   "metadata": {},
   "outputs": [],
   "source": []
  },
  {
   "cell_type": "code",
   "execution_count": 12,
   "id": "e6d890d5-afad-4dde-9937-2838670f38ec",
   "metadata": {},
   "outputs": [],
   "source": [
    "import tensorflow as tf\n",
    "from tensorflow.keras.models import Sequential\n",
    "from tensorflow.keras.layers import Conv2D, MaxPooling2D, Flatten, Dense, Dropout"
   ]
  },
  {
   "cell_type": "code",
   "execution_count": 13,
   "id": "739b0de3-daf9-42e4-8c59-ea3bdc1a73cc",
   "metadata": {},
   "outputs": [],
   "source": [
    "from tensorflow.keras.callbacks import EarlyStopping\n"
   ]
  },
  {
   "cell_type": "markdown",
   "id": "6127b0cb-178b-41d6-96da-1c48778429a9",
   "metadata": {},
   "source": [
    "### CNN model"
   ]
  },
  {
   "cell_type": "code",
   "execution_count": 14,
   "id": "3562fe9e-f12a-4618-afc8-0b8dfd2d50c4",
   "metadata": {},
   "outputs": [],
   "source": [
    "def build_cnn_model(input_shape):\n",
    "    model = Sequential([\n",
    "        Conv2D(32, (3, 3), activation='relu', input_shape=input_shape, trainable=False),  # Frozen layer\n",
    "        MaxPooling2D((2, 2)),\n",
    "        Conv2D(64, (3, 3), activation='relu'),\n",
    "        MaxPooling2D((2, 2)),\n",
    "        Conv2D(128, (3, 3), activation='relu'),\n",
    "        MaxPooling2D((2, 2)),\n",
    "        Flatten(),\n",
    "        Dense(128, activation='relu'),\n",
    "        Dropout(0.6),\n",
    "        Dense(1, activation='sigmoid')\n",
    "    ])\n",
    "    model.compile(optimizer='adam', loss='binary_crossentropy', metrics=['accuracy'])\n",
    "    return model\n"
   ]
  },
  {
   "cell_type": "code",
   "execution_count": 15,
   "id": "b342d09c-e628-43ba-9b6d-920d49c239d1",
   "metadata": {},
   "outputs": [
    {
     "data": {
      "text/plain": [
       "32587776"
      ]
     },
     "execution_count": 15,
     "metadata": {},
     "output_type": "execute_result"
    }
   ],
   "source": [
    "X_train.size"
   ]
  },
  {
   "cell_type": "code",
   "execution_count": 16,
   "id": "e218f9e1-b054-462e-9ce7-2771d0774701",
   "metadata": {},
   "outputs": [
    {
     "data": {
      "text/plain": [
       "8159232"
      ]
     },
     "execution_count": 16,
     "metadata": {},
     "output_type": "execute_result"
    }
   ],
   "source": [
    "X_test.size"
   ]
  },
  {
   "cell_type": "code",
   "execution_count": 17,
   "id": "661c8d3b-183c-42cd-9a09-c67fd5c79c74",
   "metadata": {},
   "outputs": [
    {
     "data": {
      "text/plain": [
       "663"
      ]
     },
     "execution_count": 17,
     "metadata": {},
     "output_type": "execute_result"
    }
   ],
   "source": [
    "y_train.size"
   ]
  },
  {
   "cell_type": "code",
   "execution_count": 18,
   "id": "43e3226f-47b1-4563-bcbf-99729d4a3cfd",
   "metadata": {},
   "outputs": [
    {
     "data": {
      "text/plain": [
       "166"
      ]
     },
     "execution_count": 18,
     "metadata": {},
     "output_type": "execute_result"
    }
   ],
   "source": [
    "y_test.size"
   ]
  },
  {
   "cell_type": "code",
   "execution_count": 19,
   "id": "b8d83f69-0164-41fb-8546-67def321b1f4",
   "metadata": {},
   "outputs": [],
   "source": [
    "input_shape = (128, 128, 3)  # Adjust based on your frame size\n",
    "cnn_model = build_cnn_model(input_shape)"
   ]
  },
  {
   "cell_type": "code",
   "execution_count": 20,
   "id": "2a74c60c-9409-4d30-9c9b-5c8054f6baf6",
   "metadata": {},
   "outputs": [
    {
     "data": {
      "text/html": [
       "<pre style=\"white-space:pre;overflow-x:auto;line-height:normal;font-family:Menlo,'DejaVu Sans Mono',consolas,'Courier New',monospace\"><span style=\"font-weight: bold\">Model: \"sequential\"</span>\n",
       "</pre>\n"
      ],
      "text/plain": [
       "\u001b[1mModel: \"sequential\"\u001b[0m\n"
      ]
     },
     "metadata": {},
     "output_type": "display_data"
    },
    {
     "data": {
      "text/html": [
       "<pre style=\"white-space:pre;overflow-x:auto;line-height:normal;font-family:Menlo,'DejaVu Sans Mono',consolas,'Courier New',monospace\">┏━━━━━━━━━━━━━━━━━━━━━━━━━━━━━━━━━━━━━━┳━━━━━━━━━━━━━━━━━━━━━━━━━━━━━┳━━━━━━━━━━━━━━━━━┓\n",
       "┃<span style=\"font-weight: bold\"> Layer (type)                         </span>┃<span style=\"font-weight: bold\"> Output Shape                </span>┃<span style=\"font-weight: bold\">         Param # </span>┃\n",
       "┡━━━━━━━━━━━━━━━━━━━━━━━━━━━━━━━━━━━━━━╇━━━━━━━━━━━━━━━━━━━━━━━━━━━━━╇━━━━━━━━━━━━━━━━━┩\n",
       "│ conv2d (<span style=\"color: #0087ff; text-decoration-color: #0087ff\">Conv2D</span>)                      │ (<span style=\"color: #00d7ff; text-decoration-color: #00d7ff\">None</span>, <span style=\"color: #00af00; text-decoration-color: #00af00\">126</span>, <span style=\"color: #00af00; text-decoration-color: #00af00\">126</span>, <span style=\"color: #00af00; text-decoration-color: #00af00\">32</span>)        │             <span style=\"color: #00af00; text-decoration-color: #00af00\">896</span> │\n",
       "├──────────────────────────────────────┼─────────────────────────────┼─────────────────┤\n",
       "│ max_pooling2d (<span style=\"color: #0087ff; text-decoration-color: #0087ff\">MaxPooling2D</span>)         │ (<span style=\"color: #00d7ff; text-decoration-color: #00d7ff\">None</span>, <span style=\"color: #00af00; text-decoration-color: #00af00\">63</span>, <span style=\"color: #00af00; text-decoration-color: #00af00\">63</span>, <span style=\"color: #00af00; text-decoration-color: #00af00\">32</span>)          │               <span style=\"color: #00af00; text-decoration-color: #00af00\">0</span> │\n",
       "├──────────────────────────────────────┼─────────────────────────────┼─────────────────┤\n",
       "│ conv2d_1 (<span style=\"color: #0087ff; text-decoration-color: #0087ff\">Conv2D</span>)                    │ (<span style=\"color: #00d7ff; text-decoration-color: #00d7ff\">None</span>, <span style=\"color: #00af00; text-decoration-color: #00af00\">61</span>, <span style=\"color: #00af00; text-decoration-color: #00af00\">61</span>, <span style=\"color: #00af00; text-decoration-color: #00af00\">64</span>)          │          <span style=\"color: #00af00; text-decoration-color: #00af00\">18,496</span> │\n",
       "├──────────────────────────────────────┼─────────────────────────────┼─────────────────┤\n",
       "│ max_pooling2d_1 (<span style=\"color: #0087ff; text-decoration-color: #0087ff\">MaxPooling2D</span>)       │ (<span style=\"color: #00d7ff; text-decoration-color: #00d7ff\">None</span>, <span style=\"color: #00af00; text-decoration-color: #00af00\">30</span>, <span style=\"color: #00af00; text-decoration-color: #00af00\">30</span>, <span style=\"color: #00af00; text-decoration-color: #00af00\">64</span>)          │               <span style=\"color: #00af00; text-decoration-color: #00af00\">0</span> │\n",
       "├──────────────────────────────────────┼─────────────────────────────┼─────────────────┤\n",
       "│ conv2d_2 (<span style=\"color: #0087ff; text-decoration-color: #0087ff\">Conv2D</span>)                    │ (<span style=\"color: #00d7ff; text-decoration-color: #00d7ff\">None</span>, <span style=\"color: #00af00; text-decoration-color: #00af00\">28</span>, <span style=\"color: #00af00; text-decoration-color: #00af00\">28</span>, <span style=\"color: #00af00; text-decoration-color: #00af00\">128</span>)         │          <span style=\"color: #00af00; text-decoration-color: #00af00\">73,856</span> │\n",
       "├──────────────────────────────────────┼─────────────────────────────┼─────────────────┤\n",
       "│ max_pooling2d_2 (<span style=\"color: #0087ff; text-decoration-color: #0087ff\">MaxPooling2D</span>)       │ (<span style=\"color: #00d7ff; text-decoration-color: #00d7ff\">None</span>, <span style=\"color: #00af00; text-decoration-color: #00af00\">14</span>, <span style=\"color: #00af00; text-decoration-color: #00af00\">14</span>, <span style=\"color: #00af00; text-decoration-color: #00af00\">128</span>)         │               <span style=\"color: #00af00; text-decoration-color: #00af00\">0</span> │\n",
       "├──────────────────────────────────────┼─────────────────────────────┼─────────────────┤\n",
       "│ flatten (<span style=\"color: #0087ff; text-decoration-color: #0087ff\">Flatten</span>)                    │ (<span style=\"color: #00d7ff; text-decoration-color: #00d7ff\">None</span>, <span style=\"color: #00af00; text-decoration-color: #00af00\">25088</span>)               │               <span style=\"color: #00af00; text-decoration-color: #00af00\">0</span> │\n",
       "├──────────────────────────────────────┼─────────────────────────────┼─────────────────┤\n",
       "│ dense (<span style=\"color: #0087ff; text-decoration-color: #0087ff\">Dense</span>)                        │ (<span style=\"color: #00d7ff; text-decoration-color: #00d7ff\">None</span>, <span style=\"color: #00af00; text-decoration-color: #00af00\">128</span>)                 │       <span style=\"color: #00af00; text-decoration-color: #00af00\">3,211,392</span> │\n",
       "├──────────────────────────────────────┼─────────────────────────────┼─────────────────┤\n",
       "│ dropout (<span style=\"color: #0087ff; text-decoration-color: #0087ff\">Dropout</span>)                    │ (<span style=\"color: #00d7ff; text-decoration-color: #00d7ff\">None</span>, <span style=\"color: #00af00; text-decoration-color: #00af00\">128</span>)                 │               <span style=\"color: #00af00; text-decoration-color: #00af00\">0</span> │\n",
       "├──────────────────────────────────────┼─────────────────────────────┼─────────────────┤\n",
       "│ dense_1 (<span style=\"color: #0087ff; text-decoration-color: #0087ff\">Dense</span>)                      │ (<span style=\"color: #00d7ff; text-decoration-color: #00d7ff\">None</span>, <span style=\"color: #00af00; text-decoration-color: #00af00\">1</span>)                   │             <span style=\"color: #00af00; text-decoration-color: #00af00\">129</span> │\n",
       "└──────────────────────────────────────┴─────────────────────────────┴─────────────────┘\n",
       "</pre>\n"
      ],
      "text/plain": [
       "┏━━━━━━━━━━━━━━━━━━━━━━━━━━━━━━━━━━━━━━┳━━━━━━━━━━━━━━━━━━━━━━━━━━━━━┳━━━━━━━━━━━━━━━━━┓\n",
       "┃\u001b[1m \u001b[0m\u001b[1mLayer (type)                        \u001b[0m\u001b[1m \u001b[0m┃\u001b[1m \u001b[0m\u001b[1mOutput Shape               \u001b[0m\u001b[1m \u001b[0m┃\u001b[1m \u001b[0m\u001b[1m        Param #\u001b[0m\u001b[1m \u001b[0m┃\n",
       "┡━━━━━━━━━━━━━━━━━━━━━━━━━━━━━━━━━━━━━━╇━━━━━━━━━━━━━━━━━━━━━━━━━━━━━╇━━━━━━━━━━━━━━━━━┩\n",
       "│ conv2d (\u001b[38;5;33mConv2D\u001b[0m)                      │ (\u001b[38;5;45mNone\u001b[0m, \u001b[38;5;34m126\u001b[0m, \u001b[38;5;34m126\u001b[0m, \u001b[38;5;34m32\u001b[0m)        │             \u001b[38;5;34m896\u001b[0m │\n",
       "├──────────────────────────────────────┼─────────────────────────────┼─────────────────┤\n",
       "│ max_pooling2d (\u001b[38;5;33mMaxPooling2D\u001b[0m)         │ (\u001b[38;5;45mNone\u001b[0m, \u001b[38;5;34m63\u001b[0m, \u001b[38;5;34m63\u001b[0m, \u001b[38;5;34m32\u001b[0m)          │               \u001b[38;5;34m0\u001b[0m │\n",
       "├──────────────────────────────────────┼─────────────────────────────┼─────────────────┤\n",
       "│ conv2d_1 (\u001b[38;5;33mConv2D\u001b[0m)                    │ (\u001b[38;5;45mNone\u001b[0m, \u001b[38;5;34m61\u001b[0m, \u001b[38;5;34m61\u001b[0m, \u001b[38;5;34m64\u001b[0m)          │          \u001b[38;5;34m18,496\u001b[0m │\n",
       "├──────────────────────────────────────┼─────────────────────────────┼─────────────────┤\n",
       "│ max_pooling2d_1 (\u001b[38;5;33mMaxPooling2D\u001b[0m)       │ (\u001b[38;5;45mNone\u001b[0m, \u001b[38;5;34m30\u001b[0m, \u001b[38;5;34m30\u001b[0m, \u001b[38;5;34m64\u001b[0m)          │               \u001b[38;5;34m0\u001b[0m │\n",
       "├──────────────────────────────────────┼─────────────────────────────┼─────────────────┤\n",
       "│ conv2d_2 (\u001b[38;5;33mConv2D\u001b[0m)                    │ (\u001b[38;5;45mNone\u001b[0m, \u001b[38;5;34m28\u001b[0m, \u001b[38;5;34m28\u001b[0m, \u001b[38;5;34m128\u001b[0m)         │          \u001b[38;5;34m73,856\u001b[0m │\n",
       "├──────────────────────────────────────┼─────────────────────────────┼─────────────────┤\n",
       "│ max_pooling2d_2 (\u001b[38;5;33mMaxPooling2D\u001b[0m)       │ (\u001b[38;5;45mNone\u001b[0m, \u001b[38;5;34m14\u001b[0m, \u001b[38;5;34m14\u001b[0m, \u001b[38;5;34m128\u001b[0m)         │               \u001b[38;5;34m0\u001b[0m │\n",
       "├──────────────────────────────────────┼─────────────────────────────┼─────────────────┤\n",
       "│ flatten (\u001b[38;5;33mFlatten\u001b[0m)                    │ (\u001b[38;5;45mNone\u001b[0m, \u001b[38;5;34m25088\u001b[0m)               │               \u001b[38;5;34m0\u001b[0m │\n",
       "├──────────────────────────────────────┼─────────────────────────────┼─────────────────┤\n",
       "│ dense (\u001b[38;5;33mDense\u001b[0m)                        │ (\u001b[38;5;45mNone\u001b[0m, \u001b[38;5;34m128\u001b[0m)                 │       \u001b[38;5;34m3,211,392\u001b[0m │\n",
       "├──────────────────────────────────────┼─────────────────────────────┼─────────────────┤\n",
       "│ dropout (\u001b[38;5;33mDropout\u001b[0m)                    │ (\u001b[38;5;45mNone\u001b[0m, \u001b[38;5;34m128\u001b[0m)                 │               \u001b[38;5;34m0\u001b[0m │\n",
       "├──────────────────────────────────────┼─────────────────────────────┼─────────────────┤\n",
       "│ dense_1 (\u001b[38;5;33mDense\u001b[0m)                      │ (\u001b[38;5;45mNone\u001b[0m, \u001b[38;5;34m1\u001b[0m)                   │             \u001b[38;5;34m129\u001b[0m │\n",
       "└──────────────────────────────────────┴─────────────────────────────┴─────────────────┘\n"
      ]
     },
     "metadata": {},
     "output_type": "display_data"
    },
    {
     "data": {
      "text/html": [
       "<pre style=\"white-space:pre;overflow-x:auto;line-height:normal;font-family:Menlo,'DejaVu Sans Mono',consolas,'Courier New',monospace\"><span style=\"font-weight: bold\"> Total params: </span><span style=\"color: #00af00; text-decoration-color: #00af00\">3,304,769</span> (12.61 MB)\n",
       "</pre>\n"
      ],
      "text/plain": [
       "\u001b[1m Total params: \u001b[0m\u001b[38;5;34m3,304,769\u001b[0m (12.61 MB)\n"
      ]
     },
     "metadata": {},
     "output_type": "display_data"
    },
    {
     "data": {
      "text/html": [
       "<pre style=\"white-space:pre;overflow-x:auto;line-height:normal;font-family:Menlo,'DejaVu Sans Mono',consolas,'Courier New',monospace\"><span style=\"font-weight: bold\"> Trainable params: </span><span style=\"color: #00af00; text-decoration-color: #00af00\">3,303,873</span> (12.60 MB)\n",
       "</pre>\n"
      ],
      "text/plain": [
       "\u001b[1m Trainable params: \u001b[0m\u001b[38;5;34m3,303,873\u001b[0m (12.60 MB)\n"
      ]
     },
     "metadata": {},
     "output_type": "display_data"
    },
    {
     "data": {
      "text/html": [
       "<pre style=\"white-space:pre;overflow-x:auto;line-height:normal;font-family:Menlo,'DejaVu Sans Mono',consolas,'Courier New',monospace\"><span style=\"font-weight: bold\"> Non-trainable params: </span><span style=\"color: #00af00; text-decoration-color: #00af00\">896</span> (3.50 KB)\n",
       "</pre>\n"
      ],
      "text/plain": [
       "\u001b[1m Non-trainable params: \u001b[0m\u001b[38;5;34m896\u001b[0m (3.50 KB)\n"
      ]
     },
     "metadata": {},
     "output_type": "display_data"
    }
   ],
   "source": [
    "cnn_model.summary()"
   ]
  },
  {
   "cell_type": "code",
   "execution_count": 21,
   "id": "fb5618e2-61fc-4aec-b606-2e500c5c392f",
   "metadata": {
    "scrolled": true
   },
   "outputs": [
    {
     "name": "stdout",
     "output_type": "stream",
     "text": [
      "Epoch 1/42\n",
      "\u001b[1m13/13\u001b[0m \u001b[32m━━━━━━━━━━━━━━━━━━━━\u001b[0m\u001b[37m\u001b[0m \u001b[1m4s\u001b[0m 174ms/step - accuracy: 0.7950 - loss: 7.1640 - val_accuracy: 1.0000 - val_loss: 0.0000e+00\n",
      "Epoch 2/42\n",
      "\u001b[1m13/13\u001b[0m \u001b[32m━━━━━━━━━━━━━━━━━━━━\u001b[0m\u001b[37m\u001b[0m \u001b[1m2s\u001b[0m 152ms/step - accuracy: 0.9995 - loss: 0.0088 - val_accuracy: 1.0000 - val_loss: 0.0000e+00\n",
      "Epoch 3/42\n",
      "\u001b[1m13/13\u001b[0m \u001b[32m━━━━━━━━━━━━━━━━━━━━\u001b[0m\u001b[37m\u001b[0m \u001b[1m2s\u001b[0m 153ms/step - accuracy: 1.0000 - loss: 0.0000e+00 - val_accuracy: 1.0000 - val_loss: 0.0000e+00\n",
      "Epoch 4/42\n",
      "\u001b[1m13/13\u001b[0m \u001b[32m━━━━━━━━━━━━━━━━━━━━\u001b[0m\u001b[37m\u001b[0m \u001b[1m2s\u001b[0m 151ms/step - accuracy: 0.9981 - loss: 0.0296 - val_accuracy: 1.0000 - val_loss: 0.0000e+00\n",
      "Epoch 5/42\n",
      "\u001b[1m13/13\u001b[0m \u001b[32m━━━━━━━━━━━━━━━━━━━━\u001b[0m\u001b[37m\u001b[0m \u001b[1m2s\u001b[0m 151ms/step - accuracy: 0.9990 - loss: 0.0329 - val_accuracy: 1.0000 - val_loss: 0.0000e+00\n",
      "Epoch 6/42\n",
      "\u001b[1m13/13\u001b[0m \u001b[32m━━━━━━━━━━━━━━━━━━━━\u001b[0m\u001b[37m\u001b[0m \u001b[1m2s\u001b[0m 150ms/step - accuracy: 1.0000 - loss: 8.5544e-14 - val_accuracy: 1.0000 - val_loss: 0.0000e+00\n",
      "Epoch 7/42\n",
      "\u001b[1m13/13\u001b[0m \u001b[32m━━━━━━━━━━━━━━━━━━━━\u001b[0m\u001b[37m\u001b[0m \u001b[1m2s\u001b[0m 149ms/step - accuracy: 1.0000 - loss: 0.0000e+00 - val_accuracy: 1.0000 - val_loss: 0.0000e+00\n",
      "Epoch 8/42\n",
      "\u001b[1m13/13\u001b[0m \u001b[32m━━━━━━━━━━━━━━━━━━━━\u001b[0m\u001b[37m\u001b[0m \u001b[1m2s\u001b[0m 151ms/step - accuracy: 1.0000 - loss: 6.0096e-29 - val_accuracy: 1.0000 - val_loss: 0.0000e+00\n",
      "Epoch 9/42\n",
      "\u001b[1m13/13\u001b[0m \u001b[32m━━━━━━━━━━━━━━━━━━━━\u001b[0m\u001b[37m\u001b[0m \u001b[1m2s\u001b[0m 152ms/step - accuracy: 1.0000 - loss: 0.0000e+00 - val_accuracy: 1.0000 - val_loss: 0.0000e+00\n",
      "Epoch 10/42\n",
      "\u001b[1m13/13\u001b[0m \u001b[32m━━━━━━━━━━━━━━━━━━━━\u001b[0m\u001b[37m\u001b[0m \u001b[1m2s\u001b[0m 154ms/step - accuracy: 1.0000 - loss: 0.0000e+00 - val_accuracy: 1.0000 - val_loss: 0.0000e+00\n",
      "Epoch 11/42\n",
      "\u001b[1m13/13\u001b[0m \u001b[32m━━━━━━━━━━━━━━━━━━━━\u001b[0m\u001b[37m\u001b[0m \u001b[1m2s\u001b[0m 151ms/step - accuracy: 1.0000 - loss: 0.0000e+00 - val_accuracy: 1.0000 - val_loss: 0.0000e+00\n",
      "Epoch 12/42\n",
      "\u001b[1m13/13\u001b[0m \u001b[32m━━━━━━━━━━━━━━━━━━━━\u001b[0m\u001b[37m\u001b[0m \u001b[1m2s\u001b[0m 152ms/step - accuracy: 1.0000 - loss: 6.2761e-18 - val_accuracy: 1.0000 - val_loss: 0.0000e+00\n",
      "Epoch 13/42\n",
      "\u001b[1m13/13\u001b[0m \u001b[32m━━━━━━━━━━━━━━━━━━━━\u001b[0m\u001b[37m\u001b[0m \u001b[1m2s\u001b[0m 152ms/step - accuracy: 1.0000 - loss: 1.4352e-23 - val_accuracy: 1.0000 - val_loss: 0.0000e+00\n",
      "Epoch 14/42\n",
      "\u001b[1m13/13\u001b[0m \u001b[32m━━━━━━━━━━━━━━━━━━━━\u001b[0m\u001b[37m\u001b[0m \u001b[1m2s\u001b[0m 159ms/step - accuracy: 1.0000 - loss: 8.2689e-21 - val_accuracy: 1.0000 - val_loss: 0.0000e+00\n",
      "Epoch 15/42\n",
      "\u001b[1m13/13\u001b[0m \u001b[32m━━━━━━━━━━━━━━━━━━━━\u001b[0m\u001b[37m\u001b[0m \u001b[1m2s\u001b[0m 152ms/step - accuracy: 1.0000 - loss: 2.3760e-33 - val_accuracy: 1.0000 - val_loss: 0.0000e+00\n",
      "Epoch 16/42\n",
      "\u001b[1m13/13\u001b[0m \u001b[32m━━━━━━━━━━━━━━━━━━━━\u001b[0m\u001b[37m\u001b[0m \u001b[1m2s\u001b[0m 149ms/step - accuracy: 1.0000 - loss: 1.9710e-32 - val_accuracy: 1.0000 - val_loss: 0.0000e+00\n",
      "Epoch 17/42\n",
      "\u001b[1m13/13\u001b[0m \u001b[32m━━━━━━━━━━━━━━━━━━━━\u001b[0m\u001b[37m\u001b[0m \u001b[1m2s\u001b[0m 153ms/step - accuracy: 1.0000 - loss: 0.0000e+00 - val_accuracy: 1.0000 - val_loss: 0.0000e+00\n",
      "Epoch 18/42\n",
      "\u001b[1m13/13\u001b[0m \u001b[32m━━━━━━━━━━━━━━━━━━━━\u001b[0m\u001b[37m\u001b[0m \u001b[1m2s\u001b[0m 157ms/step - accuracy: 1.0000 - loss: 0.0000e+00 - val_accuracy: 1.0000 - val_loss: 0.0000e+00\n",
      "Epoch 19/42\n",
      "\u001b[1m13/13\u001b[0m \u001b[32m━━━━━━━━━━━━━━━━━━━━\u001b[0m\u001b[37m\u001b[0m \u001b[1m2s\u001b[0m 149ms/step - accuracy: 1.0000 - loss: 2.7054e-15 - val_accuracy: 1.0000 - val_loss: 0.0000e+00\n",
      "Epoch 20/42\n",
      "\u001b[1m13/13\u001b[0m \u001b[32m━━━━━━━━━━━━━━━━━━━━\u001b[0m\u001b[37m\u001b[0m \u001b[1m2s\u001b[0m 153ms/step - accuracy: 1.0000 - loss: 5.5296e-08 - val_accuracy: 1.0000 - val_loss: 0.0000e+00\n",
      "Epoch 21/42\n",
      "\u001b[1m13/13\u001b[0m \u001b[32m━━━━━━━━━━━━━━━━━━━━\u001b[0m\u001b[37m\u001b[0m \u001b[1m2s\u001b[0m 151ms/step - accuracy: 1.0000 - loss: 0.0000e+00 - val_accuracy: 1.0000 - val_loss: 0.0000e+00\n",
      "Epoch 22/42\n",
      "\u001b[1m13/13\u001b[0m \u001b[32m━━━━━━━━━━━━━━━━━━━━\u001b[0m\u001b[37m\u001b[0m \u001b[1m2s\u001b[0m 154ms/step - accuracy: 1.0000 - loss: 2.7963e-29 - val_accuracy: 1.0000 - val_loss: 0.0000e+00\n",
      "Epoch 23/42\n",
      "\u001b[1m13/13\u001b[0m \u001b[32m━━━━━━━━━━━━━━━━━━━━\u001b[0m\u001b[37m\u001b[0m \u001b[1m2s\u001b[0m 150ms/step - accuracy: 1.0000 - loss: 0.0000e+00 - val_accuracy: 1.0000 - val_loss: 0.0000e+00\n",
      "Epoch 24/42\n",
      "\u001b[1m13/13\u001b[0m \u001b[32m━━━━━━━━━━━━━━━━━━━━\u001b[0m\u001b[37m\u001b[0m \u001b[1m2s\u001b[0m 152ms/step - accuracy: 1.0000 - loss: 0.0000e+00 - val_accuracy: 1.0000 - val_loss: 0.0000e+00\n",
      "Epoch 25/42\n",
      "\u001b[1m13/13\u001b[0m \u001b[32m━━━━━━━━━━━━━━━━━━━━\u001b[0m\u001b[37m\u001b[0m \u001b[1m2s\u001b[0m 150ms/step - accuracy: 1.0000 - loss: 2.5645e-19 - val_accuracy: 1.0000 - val_loss: 0.0000e+00\n",
      "Epoch 26/42\n",
      "\u001b[1m13/13\u001b[0m \u001b[32m━━━━━━━━━━━━━━━━━━━━\u001b[0m\u001b[37m\u001b[0m \u001b[1m2s\u001b[0m 147ms/step - accuracy: 1.0000 - loss: 0.0000e+00 - val_accuracy: 1.0000 - val_loss: 0.0000e+00\n",
      "Epoch 27/42\n",
      "\u001b[1m13/13\u001b[0m \u001b[32m━━━━━━━━━━━━━━━━━━━━\u001b[0m\u001b[37m\u001b[0m \u001b[1m2s\u001b[0m 148ms/step - accuracy: 1.0000 - loss: 0.0000e+00 - val_accuracy: 1.0000 - val_loss: 0.0000e+00\n",
      "Epoch 28/42\n",
      "\u001b[1m13/13\u001b[0m \u001b[32m━━━━━━━━━━━━━━━━━━━━\u001b[0m\u001b[37m\u001b[0m \u001b[1m2s\u001b[0m 152ms/step - accuracy: 1.0000 - loss: 0.0000e+00 - val_accuracy: 1.0000 - val_loss: 0.0000e+00\n",
      "Epoch 29/42\n",
      "\u001b[1m13/13\u001b[0m \u001b[32m━━━━━━━━━━━━━━━━━━━━\u001b[0m\u001b[37m\u001b[0m \u001b[1m2s\u001b[0m 148ms/step - accuracy: 1.0000 - loss: 0.0000e+00 - val_accuracy: 1.0000 - val_loss: 0.0000e+00\n",
      "Epoch 30/42\n",
      "\u001b[1m13/13\u001b[0m \u001b[32m━━━━━━━━━━━━━━━━━━━━\u001b[0m\u001b[37m\u001b[0m \u001b[1m2s\u001b[0m 148ms/step - accuracy: 1.0000 - loss: 0.0000e+00 - val_accuracy: 1.0000 - val_loss: 0.0000e+00\n",
      "Epoch 31/42\n",
      "\u001b[1m13/13\u001b[0m \u001b[32m━━━━━━━━━━━━━━━━━━━━\u001b[0m\u001b[37m\u001b[0m \u001b[1m2s\u001b[0m 149ms/step - accuracy: 1.0000 - loss: 0.0000e+00 - val_accuracy: 1.0000 - val_loss: 0.0000e+00\n",
      "Epoch 32/42\n",
      "\u001b[1m13/13\u001b[0m \u001b[32m━━━━━━━━━━━━━━━━━━━━\u001b[0m\u001b[37m\u001b[0m \u001b[1m2s\u001b[0m 149ms/step - accuracy: 1.0000 - loss: 3.4860e-12 - val_accuracy: 1.0000 - val_loss: 0.0000e+00\n",
      "Epoch 33/42\n",
      "\u001b[1m13/13\u001b[0m \u001b[32m━━━━━━━━━━━━━━━━━━━━\u001b[0m\u001b[37m\u001b[0m \u001b[1m2s\u001b[0m 149ms/step - accuracy: 1.0000 - loss: 0.0000e+00 - val_accuracy: 1.0000 - val_loss: 0.0000e+00\n",
      "Epoch 34/42\n",
      "\u001b[1m13/13\u001b[0m \u001b[32m━━━━━━━━━━━━━━━━━━━━\u001b[0m\u001b[37m\u001b[0m \u001b[1m2s\u001b[0m 150ms/step - accuracy: 1.0000 - loss: 0.0000e+00 - val_accuracy: 1.0000 - val_loss: 0.0000e+00\n",
      "Epoch 35/42\n",
      "\u001b[1m13/13\u001b[0m \u001b[32m━━━━━━━━━━━━━━━━━━━━\u001b[0m\u001b[37m\u001b[0m \u001b[1m2s\u001b[0m 152ms/step - accuracy: 1.0000 - loss: 6.1705e-04 - val_accuracy: 1.0000 - val_loss: 0.0000e+00\n",
      "Epoch 36/42\n",
      "\u001b[1m13/13\u001b[0m \u001b[32m━━━━━━━━━━━━━━━━━━━━\u001b[0m\u001b[37m\u001b[0m \u001b[1m2s\u001b[0m 148ms/step - accuracy: 1.0000 - loss: 0.0000e+00 - val_accuracy: 1.0000 - val_loss: 0.0000e+00\n",
      "Epoch 37/42\n",
      "\u001b[1m13/13\u001b[0m \u001b[32m━━━━━━━━━━━━━━━━━━━━\u001b[0m\u001b[37m\u001b[0m \u001b[1m2s\u001b[0m 150ms/step - accuracy: 1.0000 - loss: 2.7640e-39 - val_accuracy: 1.0000 - val_loss: 0.0000e+00\n",
      "Epoch 38/42\n",
      "\u001b[1m13/13\u001b[0m \u001b[32m━━━━━━━━━━━━━━━━━━━━\u001b[0m\u001b[37m\u001b[0m \u001b[1m2s\u001b[0m 150ms/step - accuracy: 1.0000 - loss: 0.0000e+00 - val_accuracy: 1.0000 - val_loss: 0.0000e+00\n",
      "Epoch 39/42\n",
      "\u001b[1m13/13\u001b[0m \u001b[32m━━━━━━━━━━━━━━━━━━━━\u001b[0m\u001b[37m\u001b[0m \u001b[1m2s\u001b[0m 147ms/step - accuracy: 1.0000 - loss: 0.0000e+00 - val_accuracy: 1.0000 - val_loss: 0.0000e+00\n",
      "Epoch 40/42\n",
      "\u001b[1m13/13\u001b[0m \u001b[32m━━━━━━━━━━━━━━━━━━━━\u001b[0m\u001b[37m\u001b[0m \u001b[1m2s\u001b[0m 151ms/step - accuracy: 1.0000 - loss: 0.0000e+00 - val_accuracy: 1.0000 - val_loss: 0.0000e+00\n",
      "Epoch 41/42\n",
      "\u001b[1m13/13\u001b[0m \u001b[32m━━━━━━━━━━━━━━━━━━━━\u001b[0m\u001b[37m\u001b[0m \u001b[1m2s\u001b[0m 148ms/step - accuracy: 1.0000 - loss: 0.0000e+00 - val_accuracy: 1.0000 - val_loss: 0.0000e+00\n",
      "Epoch 42/42\n",
      "\u001b[1m13/13\u001b[0m \u001b[32m━━━━━━━━━━━━━━━━━━━━\u001b[0m\u001b[37m\u001b[0m \u001b[1m2s\u001b[0m 151ms/step - accuracy: 1.0000 - loss: 5.7167e-34 - val_accuracy: 1.0000 - val_loss: 0.0000e+00\n"
     ]
    },
    {
     "data": {
      "text/plain": [
       "<keras.src.callbacks.history.History at 0x1c8fe6bf4a0>"
      ]
     },
     "execution_count": 21,
     "metadata": {},
     "output_type": "execute_result"
    }
   ],
   "source": [
    "# Train the model\n",
    "cnn_model.fit(X_train, y_train, epochs=42, batch_size=36, validation_split=0.3)"
   ]
  },
  {
   "cell_type": "code",
   "execution_count": 22,
   "id": "ca151469-c061-4454-a707-be42238be55d",
   "metadata": {},
   "outputs": [],
   "source": [
    "from sklearn.metrics import accuracy_score"
   ]
  },
  {
   "cell_type": "code",
   "execution_count": 23,
   "id": "898f1581-b7ed-417f-a8d5-c103e148d08a",
   "metadata": {},
   "outputs": [
    {
     "name": "stdout",
     "output_type": "stream",
     "text": [
      "\u001b[1m6/6\u001b[0m \u001b[32m━━━━━━━━━━━━━━━━━━━━\u001b[0m\u001b[37m\u001b[0m \u001b[1m0s\u001b[0m 48ms/step - accuracy: 1.0000 - loss: 0.0000e+00\n"
     ]
    }
   ],
   "source": [
    "# model evalution\n",
    "loss, accuracy = cnn_model.evaluate(X_test, y_test)"
   ]
  },
  {
   "cell_type": "code",
   "execution_count": 24,
   "id": "3abd6e8b-d075-4529-a2d6-2daf38937229",
   "metadata": {},
   "outputs": [
    {
     "name": "stdout",
     "output_type": "stream",
     "text": [
      "Cnn Model Test Accuracy: 1.0\n"
     ]
    }
   ],
   "source": [
    "print(f'Cnn Model Test Accuracy: {accuracy}')"
   ]
  },
  {
   "cell_type": "code",
   "execution_count": 25,
   "id": "8452dd9a-b5d4-42e3-a82c-9fd14eea5697",
   "metadata": {},
   "outputs": [
    {
     "name": "stderr",
     "output_type": "stream",
     "text": [
      "WARNING:absl:You are saving your model as an HDF5 file via `model.save()` or `keras.saving.save_model(model)`. This file format is considered legacy. We recommend using instead the native Keras format, e.g. `model.save('my_model.keras')` or `keras.saving.save_model(model, 'my_model.keras')`. \n"
     ]
    }
   ],
   "source": [
    "cnn_model.save(\"cnn_model.h5\")"
   ]
  },
  {
   "cell_type": "code",
   "execution_count": null,
   "id": "0447e37f-9965-454b-b039-1a11c590352f",
   "metadata": {},
   "outputs": [],
   "source": []
  },
  {
   "cell_type": "markdown",
   "id": "5ed7b530-ed98-4203-b149-3525db51cc24",
   "metadata": {},
   "source": [
    "### LSTM"
   ]
  },
  {
   "cell_type": "code",
   "execution_count": 26,
   "id": "462c83bc-f908-4a0c-8208-0b9ce3da0b40",
   "metadata": {},
   "outputs": [],
   "source": [
    "from tensorflow.keras.layers import LSTM, TimeDistributed, Bidirectional\n"
   ]
  },
  {
   "cell_type": "code",
   "execution_count": null,
   "id": "5bef9046-8199-4d9d-8485-655d80bc4c12",
   "metadata": {},
   "outputs": [],
   "source": []
  },
  {
   "cell_type": "code",
   "execution_count": null,
   "id": "bd57ca8d-2851-4055-8e72-0c259080fe13",
   "metadata": {},
   "outputs": [],
   "source": []
  },
  {
   "cell_type": "code",
   "execution_count": 27,
   "id": "e427b7c4-948a-40ef-a534-e22b0771234f",
   "metadata": {},
   "outputs": [],
   "source": [
    "# Assuming X_train has shape (num_samples, 128, 128, 3)\n",
    "# and you want to create sequences of 10 frames\n",
    "num_frames_per_sequence = 10\n",
    "\n",
    "# Calculate the number of sequences you can create\n",
    "num_sequences = len(X_train) // num_frames_per_sequence\n",
    "\n",
    "# Reshape data into sequences\n",
    "X_train_lstm = X_train[:num_sequences * num_frames_per_sequence]\n",
    "X_train_lstm = X_train_lstm.reshape((num_sequences, num_frames_per_sequence, 128, 128, 3))\n",
    "\n",
    "# Repeat similarly for X_test\n"
   ]
  },
  {
   "cell_type": "code",
   "execution_count": null,
   "id": "dd71b26e-dc63-464f-b6cf-e4224864896c",
   "metadata": {},
   "outputs": [],
   "source": []
  },
  {
   "cell_type": "code",
   "execution_count": 28,
   "id": "400afdaa-d60e-45e6-9142-fe40abb5d567",
   "metadata": {},
   "outputs": [],
   "source": [
    "from tensorflow.keras import layers\n",
    "\n",
    "def build_lstm_model(input_shape):\n",
    "    model = Sequential([\n",
    "        TimeDistributed(layers.Conv2D(32, (3, 3), activation='relu', input_shape=input_shape)),\n",
    "        TimeDistributed(layers.MaxPooling2D((2, 2))),\n",
    "        TimeDistributed(layers.Flatten()),\n",
    "        Bidirectional(layers.LSTM(50, return_sequences=True, dropout=0.2, recurrent_dropout=0.2)),\n",
    "        Bidirectional(layers.LSTM(50, dropout=0.2, recurrent_dropout=0.2)),\n",
    "        layers.Dense(1, activation='sigmoid')\n",
    "    ])\n",
    "    model.compile(optimizer='adam', loss='binary_crossentropy', metrics=['accuracy'])\n",
    "    return model\n"
   ]
  },
  {
   "cell_type": "code",
   "execution_count": 29,
   "id": "686dc56d-00f6-45e8-b0d3-1f2a4657cfd7",
   "metadata": {},
   "outputs": [],
   "source": [
    "input_shape = (10, 128, 128, 3)  # Example with 10 frames per sequence\n",
    "lstm_model = build_lstm_model(input_shape)"
   ]
  },
  {
   "cell_type": "code",
   "execution_count": 30,
   "id": "341ce2f3-c167-4f4f-8ee7-c05fa3d15c82",
   "metadata": {},
   "outputs": [
    {
     "name": "stdout",
     "output_type": "stream",
     "text": [
      "Epoch 1/50\n",
      "\u001b[1m7/7\u001b[0m \u001b[32m━━━━━━━━━━━━━━━━━━━━\u001b[0m\u001b[37m\u001b[0m \u001b[1m23s\u001b[0m 2s/step - accuracy: 0.5174 - loss: 0.7186 - val_accuracy: 0.2857 - val_loss: 0.7763\n",
      "Epoch 2/50\n",
      "\u001b[1m7/7\u001b[0m \u001b[32m━━━━━━━━━━━━━━━━━━━━\u001b[0m\u001b[37m\u001b[0m \u001b[1m10s\u001b[0m 1s/step - accuracy: 0.5774 - loss: 0.6966 - val_accuracy: 0.3571 - val_loss: 0.7029\n",
      "Epoch 3/50\n",
      "\u001b[1m7/7\u001b[0m \u001b[32m━━━━━━━━━━━━━━━━━━━━\u001b[0m\u001b[37m\u001b[0m \u001b[1m10s\u001b[0m 1s/step - accuracy: 0.6059 - loss: 0.6680 - val_accuracy: 0.2857 - val_loss: 0.8731\n",
      "Epoch 4/50\n",
      "\u001b[1m7/7\u001b[0m \u001b[32m━━━━━━━━━━━━━━━━━━━━\u001b[0m\u001b[37m\u001b[0m \u001b[1m10s\u001b[0m 1s/step - accuracy: 0.4767 - loss: 0.7640 - val_accuracy: 0.2857 - val_loss: 0.8135\n",
      "Epoch 5/50\n",
      "\u001b[1m7/7\u001b[0m \u001b[32m━━━━━━━━━━━━━━━━━━━━\u001b[0m\u001b[37m\u001b[0m \u001b[1m10s\u001b[0m 1s/step - accuracy: 0.5433 - loss: 0.6998 - val_accuracy: 0.2857 - val_loss: 0.8531\n",
      "Epoch 6/50\n",
      "\u001b[1m7/7\u001b[0m \u001b[32m━━━━━━━━━━━━━━━━━━━━\u001b[0m\u001b[37m\u001b[0m \u001b[1m10s\u001b[0m 1s/step - accuracy: 0.5660 - loss: 0.6915 - val_accuracy: 0.2857 - val_loss: 0.8837\n",
      "Epoch 7/50\n",
      "\u001b[1m7/7\u001b[0m \u001b[32m━━━━━━━━━━━━━━━━━━━━\u001b[0m\u001b[37m\u001b[0m \u001b[1m11s\u001b[0m 2s/step - accuracy: 0.6026 - loss: 0.6864 - val_accuracy: 0.2857 - val_loss: 0.7677\n",
      "Epoch 8/50\n",
      "\u001b[1m7/7\u001b[0m \u001b[32m━━━━━━━━━━━━━━━━━━━━\u001b[0m\u001b[37m\u001b[0m \u001b[1m10s\u001b[0m 1s/step - accuracy: 0.4710 - loss: 0.6992 - val_accuracy: 0.5000 - val_loss: 0.6991\n",
      "Epoch 9/50\n",
      "\u001b[1m7/7\u001b[0m \u001b[32m━━━━━━━━━━━━━━━━━━━━\u001b[0m\u001b[37m\u001b[0m \u001b[1m10s\u001b[0m 1s/step - accuracy: 0.4250 - loss: 0.6966 - val_accuracy: 0.2857 - val_loss: 0.7794\n",
      "Epoch 10/50\n",
      "\u001b[1m7/7\u001b[0m \u001b[32m━━━━━━━━━━━━━━━━━━━━\u001b[0m\u001b[37m\u001b[0m \u001b[1m10s\u001b[0m 1s/step - accuracy: 0.5470 - loss: 0.7024 - val_accuracy: 0.2857 - val_loss: 0.8726\n",
      "Epoch 11/50\n",
      "\u001b[1m7/7\u001b[0m \u001b[32m━━━━━━━━━━━━━━━━━━━━\u001b[0m\u001b[37m\u001b[0m \u001b[1m10s\u001b[0m 1s/step - accuracy: 0.5247 - loss: 0.7227 - val_accuracy: 0.2857 - val_loss: 0.8907\n",
      "Epoch 12/50\n",
      "\u001b[1m7/7\u001b[0m \u001b[32m━━━━━━━━━━━━━━━━━━━━\u001b[0m\u001b[37m\u001b[0m \u001b[1m10s\u001b[0m 1s/step - accuracy: 0.5559 - loss: 0.6804 - val_accuracy: 0.2857 - val_loss: 0.7980\n",
      "Epoch 13/50\n",
      "\u001b[1m7/7\u001b[0m \u001b[32m━━━━━━━━━━━━━━━━━━━━\u001b[0m\u001b[37m\u001b[0m \u001b[1m10s\u001b[0m 1s/step - accuracy: 0.6407 - loss: 0.6511 - val_accuracy: 0.3571 - val_loss: 0.7576\n",
      "Epoch 14/50\n",
      "\u001b[1m7/7\u001b[0m \u001b[32m━━━━━━━━━━━━━━━━━━━━\u001b[0m\u001b[37m\u001b[0m \u001b[1m10s\u001b[0m 1s/step - accuracy: 0.5143 - loss: 0.7002 - val_accuracy: 0.2857 - val_loss: 0.7553\n",
      "Epoch 15/50\n",
      "\u001b[1m7/7\u001b[0m \u001b[32m━━━━━━━━━━━━━━━━━━━━\u001b[0m\u001b[37m\u001b[0m \u001b[1m10s\u001b[0m 1s/step - accuracy: 0.4822 - loss: 0.6857 - val_accuracy: 0.2857 - val_loss: 0.7723\n",
      "Epoch 16/50\n",
      "\u001b[1m7/7\u001b[0m \u001b[32m━━━━━━━━━━━━━━━━━━━━\u001b[0m\u001b[37m\u001b[0m \u001b[1m10s\u001b[0m 1s/step - accuracy: 0.6131 - loss: 0.6530 - val_accuracy: 0.2857 - val_loss: 0.8076\n",
      "Epoch 17/50\n",
      "\u001b[1m7/7\u001b[0m \u001b[32m━━━━━━━━━━━━━━━━━━━━\u001b[0m\u001b[37m\u001b[0m \u001b[1m10s\u001b[0m 1s/step - accuracy: 0.5510 - loss: 0.6721 - val_accuracy: 0.2857 - val_loss: 0.7804\n",
      "Epoch 18/50\n",
      "\u001b[1m7/7\u001b[0m \u001b[32m━━━━━━━━━━━━━━━━━━━━\u001b[0m\u001b[37m\u001b[0m \u001b[1m10s\u001b[0m 1s/step - accuracy: 0.6005 - loss: 0.6753 - val_accuracy: 0.2857 - val_loss: 0.7605\n",
      "Epoch 19/50\n",
      "\u001b[1m7/7\u001b[0m \u001b[32m━━━━━━━━━━━━━━━━━━━━\u001b[0m\u001b[37m\u001b[0m \u001b[1m10s\u001b[0m 1s/step - accuracy: 0.5625 - loss: 0.6950 - val_accuracy: 0.2857 - val_loss: 0.8144\n",
      "Epoch 20/50\n",
      "\u001b[1m7/7\u001b[0m \u001b[32m━━━━━━━━━━━━━━━━━━━━\u001b[0m\u001b[37m\u001b[0m \u001b[1m11s\u001b[0m 2s/step - accuracy: 0.5487 - loss: 0.6836 - val_accuracy: 0.2857 - val_loss: 0.8651\n",
      "Epoch 21/50\n",
      "\u001b[1m7/7\u001b[0m \u001b[32m━━━━━━━━━━━━━━━━━━━━\u001b[0m\u001b[37m\u001b[0m \u001b[1m10s\u001b[0m 1s/step - accuracy: 0.5842 - loss: 0.6937 - val_accuracy: 0.2857 - val_loss: 0.8017\n",
      "Epoch 22/50\n",
      "\u001b[1m7/7\u001b[0m \u001b[32m━━━━━━━━━━━━━━━━━━━━\u001b[0m\u001b[37m\u001b[0m \u001b[1m10s\u001b[0m 2s/step - accuracy: 0.5636 - loss: 0.6605 - val_accuracy: 0.2857 - val_loss: 0.7895\n",
      "Epoch 23/50\n",
      "\u001b[1m7/7\u001b[0m \u001b[32m━━━━━━━━━━━━━━━━━━━━\u001b[0m\u001b[37m\u001b[0m \u001b[1m10s\u001b[0m 1s/step - accuracy: 0.5741 - loss: 0.6833 - val_accuracy: 0.2857 - val_loss: 0.8298\n",
      "Epoch 24/50\n",
      "\u001b[1m7/7\u001b[0m \u001b[32m━━━━━━━━━━━━━━━━━━━━\u001b[0m\u001b[37m\u001b[0m \u001b[1m10s\u001b[0m 1s/step - accuracy: 0.6273 - loss: 0.6618 - val_accuracy: 0.2857 - val_loss: 0.8738\n",
      "Epoch 25/50\n",
      "\u001b[1m7/7\u001b[0m \u001b[32m━━━━━━━━━━━━━━━━━━━━\u001b[0m\u001b[37m\u001b[0m \u001b[1m11s\u001b[0m 2s/step - accuracy: 0.6614 - loss: 0.6407 - val_accuracy: 0.2857 - val_loss: 0.8069\n",
      "Epoch 26/50\n",
      "\u001b[1m7/7\u001b[0m \u001b[32m━━━━━━━━━━━━━━━━━━━━\u001b[0m\u001b[37m\u001b[0m \u001b[1m10s\u001b[0m 1s/step - accuracy: 0.7199 - loss: 0.6433 - val_accuracy: 0.3571 - val_loss: 0.7489\n",
      "Epoch 27/50\n",
      "\u001b[1m7/7\u001b[0m \u001b[32m━━━━━━━━━━━━━━━━━━━━\u001b[0m\u001b[37m\u001b[0m \u001b[1m11s\u001b[0m 1s/step - accuracy: 0.5654 - loss: 0.6600 - val_accuracy: 0.2857 - val_loss: 0.7934\n",
      "Epoch 28/50\n",
      "\u001b[1m7/7\u001b[0m \u001b[32m━━━━━━━━━━━━━━━━━━━━\u001b[0m\u001b[37m\u001b[0m \u001b[1m10s\u001b[0m 1s/step - accuracy: 0.5426 - loss: 0.6943 - val_accuracy: 0.2857 - val_loss: 0.8009\n",
      "Epoch 29/50\n",
      "\u001b[1m7/7\u001b[0m \u001b[32m━━━━━━━━━━━━━━━━━━━━\u001b[0m\u001b[37m\u001b[0m \u001b[1m10s\u001b[0m 1s/step - accuracy: 0.5779 - loss: 0.6638 - val_accuracy: 0.2857 - val_loss: 0.8391\n",
      "Epoch 30/50\n",
      "\u001b[1m7/7\u001b[0m \u001b[32m━━━━━━━━━━━━━━━━━━━━\u001b[0m\u001b[37m\u001b[0m \u001b[1m10s\u001b[0m 1s/step - accuracy: 0.5169 - loss: 0.7208 - val_accuracy: 0.2857 - val_loss: 0.7806\n",
      "Epoch 31/50\n",
      "\u001b[1m7/7\u001b[0m \u001b[32m━━━━━━━━━━━━━━━━━━━━\u001b[0m\u001b[37m\u001b[0m \u001b[1m10s\u001b[0m 1s/step - accuracy: 0.5161 - loss: 0.6795 - val_accuracy: 0.2857 - val_loss: 0.8090\n",
      "Epoch 32/50\n",
      "\u001b[1m7/7\u001b[0m \u001b[32m━━━━━━━━━━━━━━━━━━━━\u001b[0m\u001b[37m\u001b[0m \u001b[1m10s\u001b[0m 1s/step - accuracy: 0.5873 - loss: 0.6905 - val_accuracy: 0.2857 - val_loss: 0.8027\n",
      "Epoch 33/50\n",
      "\u001b[1m7/7\u001b[0m \u001b[32m━━━━━━━━━━━━━━━━━━━━\u001b[0m\u001b[37m\u001b[0m \u001b[1m10s\u001b[0m 1s/step - accuracy: 0.4949 - loss: 0.6909 - val_accuracy: 0.2857 - val_loss: 0.7952\n",
      "Epoch 34/50\n",
      "\u001b[1m7/7\u001b[0m \u001b[32m━━━━━━━━━━━━━━━━━━━━\u001b[0m\u001b[37m\u001b[0m \u001b[1m10s\u001b[0m 1s/step - accuracy: 0.5681 - loss: 0.6645 - val_accuracy: 0.2857 - val_loss: 0.8134\n",
      "Epoch 35/50\n",
      "\u001b[1m7/7\u001b[0m \u001b[32m━━━━━━━━━━━━━━━━━━━━\u001b[0m\u001b[37m\u001b[0m \u001b[1m10s\u001b[0m 1s/step - accuracy: 0.5601 - loss: 0.6767 - val_accuracy: 0.2857 - val_loss: 0.7618\n",
      "Epoch 36/50\n",
      "\u001b[1m7/7\u001b[0m \u001b[32m━━━━━━━━━━━━━━━━━━━━\u001b[0m\u001b[37m\u001b[0m \u001b[1m10s\u001b[0m 1s/step - accuracy: 0.4634 - loss: 0.6960 - val_accuracy: 0.2857 - val_loss: 0.7477\n",
      "Epoch 37/50\n",
      "\u001b[1m7/7\u001b[0m \u001b[32m━━━━━━━━━━━━━━━━━━━━\u001b[0m\u001b[37m\u001b[0m \u001b[1m10s\u001b[0m 1s/step - accuracy: 0.6158 - loss: 0.6821 - val_accuracy: 0.2857 - val_loss: 0.7747\n",
      "Epoch 38/50\n",
      "\u001b[1m7/7\u001b[0m \u001b[32m━━━━━━━━━━━━━━━━━━━━\u001b[0m\u001b[37m\u001b[0m \u001b[1m10s\u001b[0m 1s/step - accuracy: 0.4876 - loss: 0.6963 - val_accuracy: 0.2857 - val_loss: 0.7562\n",
      "Epoch 39/50\n",
      "\u001b[1m7/7\u001b[0m \u001b[32m━━━━━━━━━━━━━━━━━━━━\u001b[0m\u001b[37m\u001b[0m \u001b[1m11s\u001b[0m 2s/step - accuracy: 0.4942 - loss: 0.7054 - val_accuracy: 0.2857 - val_loss: 0.7803\n",
      "Epoch 40/50\n",
      "\u001b[1m7/7\u001b[0m \u001b[32m━━━━━━━━━━━━━━━━━━━━\u001b[0m\u001b[37m\u001b[0m \u001b[1m10s\u001b[0m 1s/step - accuracy: 0.4095 - loss: 0.7236 - val_accuracy: 0.2857 - val_loss: 0.7756\n",
      "Epoch 41/50\n",
      "\u001b[1m7/7\u001b[0m \u001b[32m━━━━━━━━━━━━━━━━━━━━\u001b[0m\u001b[37m\u001b[0m \u001b[1m11s\u001b[0m 2s/step - accuracy: 0.5536 - loss: 0.7043 - val_accuracy: 0.2857 - val_loss: 0.7917\n",
      "Epoch 42/50\n",
      "\u001b[1m7/7\u001b[0m \u001b[32m━━━━━━━━━━━━━━━━━━━━\u001b[0m\u001b[37m\u001b[0m \u001b[1m11s\u001b[0m 2s/step - accuracy: 0.5247 - loss: 0.6992 - val_accuracy: 0.2857 - val_loss: 0.8028\n",
      "Epoch 43/50\n",
      "\u001b[1m7/7\u001b[0m \u001b[32m━━━━━━━━━━━━━━━━━━━━\u001b[0m\u001b[37m\u001b[0m \u001b[1m11s\u001b[0m 2s/step - accuracy: 0.5899 - loss: 0.6849 - val_accuracy: 0.2857 - val_loss: 0.8043\n",
      "Epoch 44/50\n",
      "\u001b[1m7/7\u001b[0m \u001b[32m━━━━━━━━━━━━━━━━━━━━\u001b[0m\u001b[37m\u001b[0m \u001b[1m11s\u001b[0m 2s/step - accuracy: 0.5518 - loss: 0.6953 - val_accuracy: 0.2857 - val_loss: 0.7563\n",
      "Epoch 45/50\n",
      "\u001b[1m7/7\u001b[0m \u001b[32m━━━━━━━━━━━━━━━━━━━━\u001b[0m\u001b[37m\u001b[0m \u001b[1m11s\u001b[0m 2s/step - accuracy: 0.5255 - loss: 0.6869 - val_accuracy: 0.2857 - val_loss: 0.7246\n",
      "Epoch 46/50\n",
      "\u001b[1m7/7\u001b[0m \u001b[32m━━━━━━━━━━━━━━━━━━━━\u001b[0m\u001b[37m\u001b[0m \u001b[1m11s\u001b[0m 2s/step - accuracy: 0.6125 - loss: 0.6675 - val_accuracy: 0.2857 - val_loss: 0.7470\n",
      "Epoch 47/50\n",
      "\u001b[1m7/7\u001b[0m \u001b[32m━━━━━━━━━━━━━━━━━━━━\u001b[0m\u001b[37m\u001b[0m \u001b[1m10s\u001b[0m 1s/step - accuracy: 0.5562 - loss: 0.6859 - val_accuracy: 0.2857 - val_loss: 0.7663\n",
      "Epoch 48/50\n",
      "\u001b[1m7/7\u001b[0m \u001b[32m━━━━━━━━━━━━━━━━━━━━\u001b[0m\u001b[37m\u001b[0m \u001b[1m10s\u001b[0m 1s/step - accuracy: 0.5937 - loss: 0.6979 - val_accuracy: 0.2857 - val_loss: 0.7922\n",
      "Epoch 49/50\n",
      "\u001b[1m7/7\u001b[0m \u001b[32m━━━━━━━━━━━━━━━━━━━━\u001b[0m\u001b[37m\u001b[0m \u001b[1m10s\u001b[0m 1s/step - accuracy: 0.4608 - loss: 0.7453 - val_accuracy: 0.2857 - val_loss: 0.7548\n",
      "Epoch 50/50\n",
      "\u001b[1m7/7\u001b[0m \u001b[32m━━━━━━━━━━━━━━━━━━━━\u001b[0m\u001b[37m\u001b[0m \u001b[1m10s\u001b[0m 1s/step - accuracy: 0.6382 - loss: 0.6542 - val_accuracy: 0.2857 - val_loss: 0.8020\n"
     ]
    },
    {
     "data": {
      "text/plain": [
       "<keras.src.callbacks.history.History at 0x1c8febdd400>"
      ]
     },
     "execution_count": 30,
     "metadata": {},
     "output_type": "execute_result"
    }
   ],
   "source": [
    "# Prepare data for LSTM (e.g., sequences of frames)\n",
    "# X_train_lstm, X_test_lstm need to be prepared with sequences of frames\n",
    "\n",
    "# Train the model\n",
    "lstm_model.fit(X_train_lstm, y_train, epochs=50, batch_size=8, validation_split=0.2)\n"
   ]
  },
  {
   "cell_type": "code",
   "execution_count": 31,
   "id": "09049019-37ab-42c6-b720-d90b64b17988",
   "metadata": {},
   "outputs": [
    {
     "name": "stderr",
     "output_type": "stream",
     "text": [
      "WARNING:absl:You are saving your model as an HDF5 file via `model.save()` or `keras.saving.save_model(model)`. This file format is considered legacy. We recommend using instead the native Keras format, e.g. `model.save('my_model.keras')` or `keras.saving.save_model(model, 'my_model.keras')`. \n"
     ]
    }
   ],
   "source": [
    "lstm_model.save(\"lstm_model.h5\")"
   ]
  },
  {
   "cell_type": "markdown",
   "id": "1d0ca3a6-f4c7-4ec7-935c-d0ee2f4dff96",
   "metadata": {},
   "source": [
    "Almost 60-65"
   ]
  },
  {
   "cell_type": "markdown",
   "id": "9f275f6b-d242-42fd-b694-09876745a734",
   "metadata": {},
   "source": [
    "### Capsule Network"
   ]
  },
  {
   "cell_type": "code",
   "execution_count": 32,
   "id": "8ec2eddf-c009-4986-8ddf-b648b4f10526",
   "metadata": {},
   "outputs": [],
   "source": [
    "from tensorflow.keras.layers import Input, Conv2D, Reshape, Dense, Lambda, TimeDistributed, Flatten, LSTM\n",
    "from tensorflow.keras.models import Model\n",
    "import tensorflow.keras.backend as K"
   ]
  },
  {
   "cell_type": "code",
   "execution_count": 33,
   "id": "046861ac-a544-4e5a-943c-2b706302696f",
   "metadata": {},
   "outputs": [],
   "source": [
    "## forcing tensorflow to use gpu\n",
    "os.environ['CUDA_VISIBLE_DEVICES'] = '-1'"
   ]
  },
  {
   "cell_type": "code",
   "execution_count": 34,
   "id": "8a409df8-1050-4e08-9717-ec5b5f3b0fa0",
   "metadata": {},
   "outputs": [
    {
     "name": "stdout",
     "output_type": "stream",
     "text": [
      "WARNING:tensorflow:From C:\\Program Files\\Drag Software\\Anaconda\\Lib\\site-packages\\keras\\src\\backend\\common\\global_state.py:82: The name tf.reset_default_graph is deprecated. Please use tf.compat.v1.reset_default_graph instead.\n",
      "\n"
     ]
    },
    {
     "name": "stderr",
     "output_type": "stream",
     "text": [
      "WARNING:tensorflow:From C:\\Program Files\\Drag Software\\Anaconda\\Lib\\site-packages\\keras\\src\\backend\\common\\global_state.py:82: The name tf.reset_default_graph is deprecated. Please use tf.compat.v1.reset_default_graph instead.\n",
      "\n"
     ]
    }
   ],
   "source": [
    "## clear previous session\n",
    "K.clear_session()"
   ]
  },
  {
   "cell_type": "code",
   "execution_count": 35,
   "id": "25be7527-34c5-479c-95b8-edf88015f920",
   "metadata": {},
   "outputs": [],
   "source": [
    "## custom squash function for capsule layers\n",
    "def squash(x, axis=-1):\n",
    "    s_squared_norm = K.sum(K.square(x), axis, keepdims=True)\n",
    "    scale = K.sqrt(s_squared_norm + K.epsilon())\n",
    "    return s_squared_norm / (1. + s_squared_norm) * x / scale"
   ]
  },
  {
   "cell_type": "code",
   "execution_count": null,
   "id": "1de6b9f3-c249-45c2-98b1-af5aa0c314a4",
   "metadata": {},
   "outputs": [],
   "source": []
  },
  {
   "cell_type": "code",
   "execution_count": 36,
   "id": "b2510b92-120f-4b69-b0b7-f24dfc462df9",
   "metadata": {},
   "outputs": [],
   "source": [
    "## capsule network model\n",
    "def build_capsule_network(input_shape):\n",
    "    inputs = Input(shape=input_shape)\n",
    "    conv1 = TimeDistributed(Conv2D(128, (9, 9), activation='relu'))(inputs)  # Reduced filters\n",
    "    primary_caps = TimeDistributed(Conv2D(8 * 16, (9, 9), strides=2, padding='valid'))(conv1)  # Reduced filters\n",
    "    primary_caps = TimeDistributed(Reshape((-1, 8)))(primary_caps)\n",
    "    primary_caps = TimeDistributed(Lambda(squash))(primary_caps)\n",
    "    \n",
    "    primary_caps_flat = TimeDistributed(Flatten())(primary_caps)\n",
    "    lstm_output = LSTM(50)(primary_caps_flat)\n",
    "    \n",
    "    caps_output = Dense(1, activation='sigmoid')(lstm_output)\n",
    "    \n",
    "    model = Model(inputs=inputs, outputs=caps_output)\n",
    "    model.compile(optimizer='adam', loss='binary_crossentropy', metrics=['accuracy'])\n",
    "    return model"
   ]
  },
  {
   "cell_type": "code",
   "execution_count": 37,
   "id": "02e5e947-8cfe-4820-966c-64fb7f6d5974",
   "metadata": {},
   "outputs": [],
   "source": [
    "X_train = np.random.rand(300, 128, 128, 3)  # Reduced number of frames\n",
    "y_train = np.random.randint(0, 2, size=(30,))  # Corresponding labels"
   ]
  },
  {
   "cell_type": "code",
   "execution_count": 38,
   "id": "c590d3ec-0c8e-4d02-81d5-c6e0a398542d",
   "metadata": {},
   "outputs": [],
   "source": [
    "## reshape the data into sequences of frames\n",
    "num_frames_per_sequence = 10\n",
    "num_sequences = len(X_train) // num_frames_per_sequence\n",
    "\n",
    "X_train_lstm = X_train[:num_sequences * num_frames_per_sequence].reshape(\n",
    "    (num_sequences, num_frames_per_sequence, 128, 128, 3)\n",
    ")\n",
    "\n",
    "y_train_lstm = y_train[:num_sequences]"
   ]
  },
  {
   "cell_type": "code",
   "execution_count": 39,
   "id": "6cfc282b-87f2-4d64-8bee-a896799038bf",
   "metadata": {},
   "outputs": [],
   "source": [
    "input_shape = (num_frames_per_sequence, 128, 128, 3)\n",
    "capsule_model = build_capsule_network(input_shape)"
   ]
  },
  {
   "cell_type": "code",
   "execution_count": 40,
   "id": "f49dc407-758a-41d9-b84a-c8a2458e352c",
   "metadata": {},
   "outputs": [
    {
     "data": {
      "text/html": [
       "<pre style=\"white-space:pre;overflow-x:auto;line-height:normal;font-family:Menlo,'DejaVu Sans Mono',consolas,'Courier New',monospace\"><span style=\"font-weight: bold\">Model: \"functional\"</span>\n",
       "</pre>\n"
      ],
      "text/plain": [
       "\u001b[1mModel: \"functional\"\u001b[0m\n"
      ]
     },
     "metadata": {},
     "output_type": "display_data"
    },
    {
     "data": {
      "text/html": [
       "<pre style=\"white-space:pre;overflow-x:auto;line-height:normal;font-family:Menlo,'DejaVu Sans Mono',consolas,'Courier New',monospace\">┏━━━━━━━━━━━━━━━━━━━━━━━━━━━━━━━━━━━━━━┳━━━━━━━━━━━━━━━━━━━━━━━━━━━━━┳━━━━━━━━━━━━━━━━━┓\n",
       "┃<span style=\"font-weight: bold\"> Layer (type)                         </span>┃<span style=\"font-weight: bold\"> Output Shape                </span>┃<span style=\"font-weight: bold\">         Param # </span>┃\n",
       "┡━━━━━━━━━━━━━━━━━━━━━━━━━━━━━━━━━━━━━━╇━━━━━━━━━━━━━━━━━━━━━━━━━━━━━╇━━━━━━━━━━━━━━━━━┩\n",
       "│ input_layer (<span style=\"color: #0087ff; text-decoration-color: #0087ff\">InputLayer</span>)             │ (<span style=\"color: #00d7ff; text-decoration-color: #00d7ff\">None</span>, <span style=\"color: #00af00; text-decoration-color: #00af00\">10</span>, <span style=\"color: #00af00; text-decoration-color: #00af00\">128</span>, <span style=\"color: #00af00; text-decoration-color: #00af00\">128</span>, <span style=\"color: #00af00; text-decoration-color: #00af00\">3</span>)     │               <span style=\"color: #00af00; text-decoration-color: #00af00\">0</span> │\n",
       "├──────────────────────────────────────┼─────────────────────────────┼─────────────────┤\n",
       "│ time_distributed (<span style=\"color: #0087ff; text-decoration-color: #0087ff\">TimeDistributed</span>)   │ (<span style=\"color: #00d7ff; text-decoration-color: #00d7ff\">None</span>, <span style=\"color: #00af00; text-decoration-color: #00af00\">10</span>, <span style=\"color: #00af00; text-decoration-color: #00af00\">120</span>, <span style=\"color: #00af00; text-decoration-color: #00af00\">120</span>, <span style=\"color: #00af00; text-decoration-color: #00af00\">128</span>)   │          <span style=\"color: #00af00; text-decoration-color: #00af00\">31,232</span> │\n",
       "├──────────────────────────────────────┼─────────────────────────────┼─────────────────┤\n",
       "│ time_distributed_1 (<span style=\"color: #0087ff; text-decoration-color: #0087ff\">TimeDistributed</span>) │ (<span style=\"color: #00d7ff; text-decoration-color: #00d7ff\">None</span>, <span style=\"color: #00af00; text-decoration-color: #00af00\">10</span>, <span style=\"color: #00af00; text-decoration-color: #00af00\">56</span>, <span style=\"color: #00af00; text-decoration-color: #00af00\">56</span>, <span style=\"color: #00af00; text-decoration-color: #00af00\">128</span>)     │       <span style=\"color: #00af00; text-decoration-color: #00af00\">1,327,232</span> │\n",
       "├──────────────────────────────────────┼─────────────────────────────┼─────────────────┤\n",
       "│ time_distributed_2 (<span style=\"color: #0087ff; text-decoration-color: #0087ff\">TimeDistributed</span>) │ (<span style=\"color: #00d7ff; text-decoration-color: #00d7ff\">None</span>, <span style=\"color: #00af00; text-decoration-color: #00af00\">10</span>, <span style=\"color: #00af00; text-decoration-color: #00af00\">50176</span>, <span style=\"color: #00af00; text-decoration-color: #00af00\">8</span>)        │               <span style=\"color: #00af00; text-decoration-color: #00af00\">0</span> │\n",
       "├──────────────────────────────────────┼─────────────────────────────┼─────────────────┤\n",
       "│ time_distributed_3 (<span style=\"color: #0087ff; text-decoration-color: #0087ff\">TimeDistributed</span>) │ (<span style=\"color: #00d7ff; text-decoration-color: #00d7ff\">None</span>, <span style=\"color: #00af00; text-decoration-color: #00af00\">10</span>, <span style=\"color: #00af00; text-decoration-color: #00af00\">50176</span>, <span style=\"color: #00af00; text-decoration-color: #00af00\">8</span>)        │               <span style=\"color: #00af00; text-decoration-color: #00af00\">0</span> │\n",
       "├──────────────────────────────────────┼─────────────────────────────┼─────────────────┤\n",
       "│ time_distributed_4 (<span style=\"color: #0087ff; text-decoration-color: #0087ff\">TimeDistributed</span>) │ (<span style=\"color: #00d7ff; text-decoration-color: #00d7ff\">None</span>, <span style=\"color: #00af00; text-decoration-color: #00af00\">10</span>, <span style=\"color: #00af00; text-decoration-color: #00af00\">401408</span>)          │               <span style=\"color: #00af00; text-decoration-color: #00af00\">0</span> │\n",
       "├──────────────────────────────────────┼─────────────────────────────┼─────────────────┤\n",
       "│ lstm (<span style=\"color: #0087ff; text-decoration-color: #0087ff\">LSTM</span>)                          │ (<span style=\"color: #00d7ff; text-decoration-color: #00d7ff\">None</span>, <span style=\"color: #00af00; text-decoration-color: #00af00\">50</span>)                  │      <span style=\"color: #00af00; text-decoration-color: #00af00\">80,291,800</span> │\n",
       "├──────────────────────────────────────┼─────────────────────────────┼─────────────────┤\n",
       "│ dense (<span style=\"color: #0087ff; text-decoration-color: #0087ff\">Dense</span>)                        │ (<span style=\"color: #00d7ff; text-decoration-color: #00d7ff\">None</span>, <span style=\"color: #00af00; text-decoration-color: #00af00\">1</span>)                   │              <span style=\"color: #00af00; text-decoration-color: #00af00\">51</span> │\n",
       "└──────────────────────────────────────┴─────────────────────────────┴─────────────────┘\n",
       "</pre>\n"
      ],
      "text/plain": [
       "┏━━━━━━━━━━━━━━━━━━━━━━━━━━━━━━━━━━━━━━┳━━━━━━━━━━━━━━━━━━━━━━━━━━━━━┳━━━━━━━━━━━━━━━━━┓\n",
       "┃\u001b[1m \u001b[0m\u001b[1mLayer (type)                        \u001b[0m\u001b[1m \u001b[0m┃\u001b[1m \u001b[0m\u001b[1mOutput Shape               \u001b[0m\u001b[1m \u001b[0m┃\u001b[1m \u001b[0m\u001b[1m        Param #\u001b[0m\u001b[1m \u001b[0m┃\n",
       "┡━━━━━━━━━━━━━━━━━━━━━━━━━━━━━━━━━━━━━━╇━━━━━━━━━━━━━━━━━━━━━━━━━━━━━╇━━━━━━━━━━━━━━━━━┩\n",
       "│ input_layer (\u001b[38;5;33mInputLayer\u001b[0m)             │ (\u001b[38;5;45mNone\u001b[0m, \u001b[38;5;34m10\u001b[0m, \u001b[38;5;34m128\u001b[0m, \u001b[38;5;34m128\u001b[0m, \u001b[38;5;34m3\u001b[0m)     │               \u001b[38;5;34m0\u001b[0m │\n",
       "├──────────────────────────────────────┼─────────────────────────────┼─────────────────┤\n",
       "│ time_distributed (\u001b[38;5;33mTimeDistributed\u001b[0m)   │ (\u001b[38;5;45mNone\u001b[0m, \u001b[38;5;34m10\u001b[0m, \u001b[38;5;34m120\u001b[0m, \u001b[38;5;34m120\u001b[0m, \u001b[38;5;34m128\u001b[0m)   │          \u001b[38;5;34m31,232\u001b[0m │\n",
       "├──────────────────────────────────────┼─────────────────────────────┼─────────────────┤\n",
       "│ time_distributed_1 (\u001b[38;5;33mTimeDistributed\u001b[0m) │ (\u001b[38;5;45mNone\u001b[0m, \u001b[38;5;34m10\u001b[0m, \u001b[38;5;34m56\u001b[0m, \u001b[38;5;34m56\u001b[0m, \u001b[38;5;34m128\u001b[0m)     │       \u001b[38;5;34m1,327,232\u001b[0m │\n",
       "├──────────────────────────────────────┼─────────────────────────────┼─────────────────┤\n",
       "│ time_distributed_2 (\u001b[38;5;33mTimeDistributed\u001b[0m) │ (\u001b[38;5;45mNone\u001b[0m, \u001b[38;5;34m10\u001b[0m, \u001b[38;5;34m50176\u001b[0m, \u001b[38;5;34m8\u001b[0m)        │               \u001b[38;5;34m0\u001b[0m │\n",
       "├──────────────────────────────────────┼─────────────────────────────┼─────────────────┤\n",
       "│ time_distributed_3 (\u001b[38;5;33mTimeDistributed\u001b[0m) │ (\u001b[38;5;45mNone\u001b[0m, \u001b[38;5;34m10\u001b[0m, \u001b[38;5;34m50176\u001b[0m, \u001b[38;5;34m8\u001b[0m)        │               \u001b[38;5;34m0\u001b[0m │\n",
       "├──────────────────────────────────────┼─────────────────────────────┼─────────────────┤\n",
       "│ time_distributed_4 (\u001b[38;5;33mTimeDistributed\u001b[0m) │ (\u001b[38;5;45mNone\u001b[0m, \u001b[38;5;34m10\u001b[0m, \u001b[38;5;34m401408\u001b[0m)          │               \u001b[38;5;34m0\u001b[0m │\n",
       "├──────────────────────────────────────┼─────────────────────────────┼─────────────────┤\n",
       "│ lstm (\u001b[38;5;33mLSTM\u001b[0m)                          │ (\u001b[38;5;45mNone\u001b[0m, \u001b[38;5;34m50\u001b[0m)                  │      \u001b[38;5;34m80,291,800\u001b[0m │\n",
       "├──────────────────────────────────────┼─────────────────────────────┼─────────────────┤\n",
       "│ dense (\u001b[38;5;33mDense\u001b[0m)                        │ (\u001b[38;5;45mNone\u001b[0m, \u001b[38;5;34m1\u001b[0m)                   │              \u001b[38;5;34m51\u001b[0m │\n",
       "└──────────────────────────────────────┴─────────────────────────────┴─────────────────┘\n"
      ]
     },
     "metadata": {},
     "output_type": "display_data"
    },
    {
     "data": {
      "text/html": [
       "<pre style=\"white-space:pre;overflow-x:auto;line-height:normal;font-family:Menlo,'DejaVu Sans Mono',consolas,'Courier New',monospace\"><span style=\"font-weight: bold\"> Total params: </span><span style=\"color: #00af00; text-decoration-color: #00af00\">81,650,315</span> (311.47 MB)\n",
       "</pre>\n"
      ],
      "text/plain": [
       "\u001b[1m Total params: \u001b[0m\u001b[38;5;34m81,650,315\u001b[0m (311.47 MB)\n"
      ]
     },
     "metadata": {},
     "output_type": "display_data"
    },
    {
     "data": {
      "text/html": [
       "<pre style=\"white-space:pre;overflow-x:auto;line-height:normal;font-family:Menlo,'DejaVu Sans Mono',consolas,'Courier New',monospace\"><span style=\"font-weight: bold\"> Trainable params: </span><span style=\"color: #00af00; text-decoration-color: #00af00\">81,650,315</span> (311.47 MB)\n",
       "</pre>\n"
      ],
      "text/plain": [
       "\u001b[1m Trainable params: \u001b[0m\u001b[38;5;34m81,650,315\u001b[0m (311.47 MB)\n"
      ]
     },
     "metadata": {},
     "output_type": "display_data"
    },
    {
     "data": {
      "text/html": [
       "<pre style=\"white-space:pre;overflow-x:auto;line-height:normal;font-family:Menlo,'DejaVu Sans Mono',consolas,'Courier New',monospace\"><span style=\"font-weight: bold\"> Non-trainable params: </span><span style=\"color: #00af00; text-decoration-color: #00af00\">0</span> (0.00 B)\n",
       "</pre>\n"
      ],
      "text/plain": [
       "\u001b[1m Non-trainable params: \u001b[0m\u001b[38;5;34m0\u001b[0m (0.00 B)\n"
      ]
     },
     "metadata": {},
     "output_type": "display_data"
    }
   ],
   "source": [
    "capsule_model.summary()"
   ]
  },
  {
   "cell_type": "code",
   "execution_count": 41,
   "id": "ca6ab4c4-d3e4-40eb-a41b-2a5ec3453873",
   "metadata": {
    "scrolled": true
   },
   "outputs": [
    {
     "name": "stdout",
     "output_type": "stream",
     "text": [
      "Epoch 1/50\n",
      "\u001b[1m3/3\u001b[0m \u001b[32m━━━━━━━━━━━━━━━━━━━━\u001b[0m\u001b[37m\u001b[0m \u001b[1m56s\u001b[0m 16s/step - accuracy: 0.3594 - loss: 1.3550 - val_accuracy: 0.3333 - val_loss: 0.7109\n",
      "Epoch 2/50\n",
      "\u001b[1m3/3\u001b[0m \u001b[32m━━━━━━━━━━━━━━━━━━━━\u001b[0m\u001b[37m\u001b[0m \u001b[1m38s\u001b[0m 13s/step - accuracy: 0.6250 - loss: 0.6786 - val_accuracy: 0.3333 - val_loss: 0.8256\n",
      "Epoch 3/50\n",
      "\u001b[1m3/3\u001b[0m \u001b[32m━━━━━━━━━━━━━━━━━━━━\u001b[0m\u001b[37m\u001b[0m \u001b[1m39s\u001b[0m 14s/step - accuracy: 0.6250 - loss: 0.6629 - val_accuracy: 0.3333 - val_loss: 0.7700\n",
      "Epoch 4/50\n",
      "\u001b[1m3/3\u001b[0m \u001b[32m━━━━━━━━━━━━━━━━━━━━\u001b[0m\u001b[37m\u001b[0m \u001b[1m40s\u001b[0m 13s/step - accuracy: 0.6562 - loss: 0.7087 - val_accuracy: 0.3333 - val_loss: 0.8330\n",
      "Epoch 5/50\n",
      "\u001b[1m3/3\u001b[0m \u001b[32m━━━━━━━━━━━━━━━━━━━━\u001b[0m\u001b[37m\u001b[0m \u001b[1m39s\u001b[0m 13s/step - accuracy: 0.6094 - loss: 0.6752 - val_accuracy: 0.3333 - val_loss: 0.8535\n",
      "Epoch 6/50\n",
      "\u001b[1m3/3\u001b[0m \u001b[32m━━━━━━━━━━━━━━━━━━━━\u001b[0m\u001b[37m\u001b[0m \u001b[1m39s\u001b[0m 13s/step - accuracy: 0.6719 - loss: 0.6334 - val_accuracy: 0.3333 - val_loss: 0.8532\n",
      "Epoch 7/50\n",
      "\u001b[1m3/3\u001b[0m \u001b[32m━━━━━━━━━━━━━━━━━━━━\u001b[0m\u001b[37m\u001b[0m \u001b[1m38s\u001b[0m 13s/step - accuracy: 0.6875 - loss: 0.6232 - val_accuracy: 0.3333 - val_loss: 0.8526\n",
      "Epoch 8/50\n",
      "\u001b[1m3/3\u001b[0m \u001b[32m━━━━━━━━━━━━━━━━━━━━\u001b[0m\u001b[37m\u001b[0m \u001b[1m41s\u001b[0m 14s/step - accuracy: 0.6250 - loss: 0.6637 - val_accuracy: 0.3333 - val_loss: 0.8506\n",
      "Epoch 9/50\n",
      "\u001b[1m3/3\u001b[0m \u001b[32m━━━━━━━━━━━━━━━━━━━━\u001b[0m\u001b[37m\u001b[0m \u001b[1m39s\u001b[0m 13s/step - accuracy: 0.6719 - loss: 0.6335 - val_accuracy: 0.3333 - val_loss: 0.8490\n",
      "Epoch 10/50\n",
      "\u001b[1m3/3\u001b[0m \u001b[32m━━━━━━━━━━━━━━━━━━━━\u001b[0m\u001b[37m\u001b[0m \u001b[1m40s\u001b[0m 14s/step - accuracy: 0.6562 - loss: 0.6434 - val_accuracy: 0.3333 - val_loss: 0.8474\n",
      "Epoch 11/50\n",
      "\u001b[1m3/3\u001b[0m \u001b[32m━━━━━━━━━━━━━━━━━━━━\u001b[0m\u001b[37m\u001b[0m \u001b[1m38s\u001b[0m 13s/step - accuracy: 0.6250 - loss: 0.6632 - val_accuracy: 0.3333 - val_loss: 0.8454\n",
      "Epoch 12/50\n",
      "\u001b[1m3/3\u001b[0m \u001b[32m━━━━━━━━━━━━━━━━━━━━\u001b[0m\u001b[37m\u001b[0m \u001b[1m40s\u001b[0m 14s/step - accuracy: 0.6250 - loss: 0.6630 - val_accuracy: 0.3333 - val_loss: 0.8433\n",
      "Epoch 13/50\n",
      "\u001b[1m3/3\u001b[0m \u001b[32m━━━━━━━━━━━━━━━━━━━━\u001b[0m\u001b[37m\u001b[0m \u001b[1m38s\u001b[0m 13s/step - accuracy: 0.5781 - loss: 0.6920 - val_accuracy: 0.3333 - val_loss: 0.8408\n",
      "Epoch 14/50\n",
      "\u001b[1m3/3\u001b[0m \u001b[32m━━━━━━━━━━━━━━━━━━━━\u001b[0m\u001b[37m\u001b[0m \u001b[1m37s\u001b[0m 13s/step - accuracy: 0.5312 - loss: 0.7202 - val_accuracy: 0.3333 - val_loss: 0.8382\n",
      "Epoch 15/50\n",
      "\u001b[1m3/3\u001b[0m \u001b[32m━━━━━━━━━━━━━━━━━━━━\u001b[0m\u001b[37m\u001b[0m \u001b[1m37s\u001b[0m 13s/step - accuracy: 0.6250 - loss: 0.6625 - val_accuracy: 0.3333 - val_loss: 0.8368\n",
      "Epoch 16/50\n",
      "\u001b[1m3/3\u001b[0m \u001b[32m━━━━━━━━━━━━━━━━━━━━\u001b[0m\u001b[37m\u001b[0m \u001b[1m39s\u001b[0m 14s/step - accuracy: 0.7188 - loss: 0.6064 - val_accuracy: 0.3333 - val_loss: 0.8365\n",
      "Epoch 17/50\n",
      "\u001b[1m3/3\u001b[0m \u001b[32m━━━━━━━━━━━━━━━━━━━━\u001b[0m\u001b[37m\u001b[0m \u001b[1m40s\u001b[0m 13s/step - accuracy: 0.5781 - loss: 0.6905 - val_accuracy: 0.3333 - val_loss: 0.8344\n",
      "Epoch 18/50\n",
      "\u001b[1m3/3\u001b[0m \u001b[32m━━━━━━━━━━━━━━━━━━━━\u001b[0m\u001b[37m\u001b[0m \u001b[1m38s\u001b[0m 13s/step - accuracy: 0.6875 - loss: 0.6254 - val_accuracy: 0.3333 - val_loss: 0.8338\n",
      "Epoch 19/50\n",
      "\u001b[1m3/3\u001b[0m \u001b[32m━━━━━━━━━━━━━━━━━━━━\u001b[0m\u001b[37m\u001b[0m \u001b[1m37s\u001b[0m 13s/step - accuracy: 0.6562 - loss: 0.6438 - val_accuracy: 0.3333 - val_loss: 0.8325\n",
      "Epoch 20/50\n",
      "\u001b[1m3/3\u001b[0m \u001b[32m━━━━━━━━━━━━━━━━━━━━\u001b[0m\u001b[37m\u001b[0m \u001b[1m37s\u001b[0m 13s/step - accuracy: 0.5625 - loss: 0.6988 - val_accuracy: 0.3333 - val_loss: 0.8303\n",
      "Epoch 21/50\n",
      "\u001b[1m3/3\u001b[0m \u001b[32m━━━━━━━━━━━━━━━━━━━━\u001b[0m\u001b[37m\u001b[0m \u001b[1m39s\u001b[0m 13s/step - accuracy: 0.6719 - loss: 0.6350 - val_accuracy: 0.3333 - val_loss: 0.8296\n",
      "Epoch 22/50\n",
      "\u001b[1m3/3\u001b[0m \u001b[32m━━━━━━━━━━━━━━━━━━━━\u001b[0m\u001b[37m\u001b[0m \u001b[1m38s\u001b[0m 13s/step - accuracy: 0.6719 - loss: 0.6351 - val_accuracy: 0.3333 - val_loss: 0.8289\n",
      "Epoch 23/50\n",
      "\u001b[1m3/3\u001b[0m \u001b[32m━━━━━━━━━━━━━━━━━━━━\u001b[0m\u001b[37m\u001b[0m \u001b[1m39s\u001b[0m 13s/step - accuracy: 0.6094 - loss: 0.6710 - val_accuracy: 0.3333 - val_loss: 0.8273\n",
      "Epoch 24/50\n",
      "\u001b[1m3/3\u001b[0m \u001b[32m━━━━━━━━━━━━━━━━━━━━\u001b[0m\u001b[37m\u001b[0m \u001b[1m39s\u001b[0m 13s/step - accuracy: 0.6250 - loss: 0.6619 - val_accuracy: 0.3333 - val_loss: 0.8262\n",
      "Epoch 25/50\n",
      "\u001b[1m3/3\u001b[0m \u001b[32m━━━━━━━━━━━━━━━━━━━━\u001b[0m\u001b[37m\u001b[0m \u001b[1m42s\u001b[0m 14s/step - accuracy: 0.5156 - loss: 0.7238 - val_accuracy: 0.3333 - val_loss: 0.8240\n",
      "Epoch 26/50\n",
      "\u001b[1m3/3\u001b[0m \u001b[32m━━━━━━━━━━━━━━━━━━━━\u001b[0m\u001b[37m\u001b[0m \u001b[1m39s\u001b[0m 13s/step - accuracy: 0.6250 - loss: 0.6618 - val_accuracy: 0.3333 - val_loss: 0.8234\n",
      "Epoch 27/50\n",
      "\u001b[1m3/3\u001b[0m \u001b[32m━━━━━━━━━━━━━━━━━━━━\u001b[0m\u001b[37m\u001b[0m \u001b[1m42s\u001b[0m 13s/step - accuracy: 0.6562 - loss: 0.6445 - val_accuracy: 0.3333 - val_loss: 0.8230\n",
      "Epoch 28/50\n",
      "\u001b[1m3/3\u001b[0m \u001b[32m━━━━━━━━━━━━━━━━━━━━\u001b[0m\u001b[37m\u001b[0m \u001b[1m38s\u001b[0m 13s/step - accuracy: 0.5781 - loss: 0.6877 - val_accuracy: 0.3333 - val_loss: 0.8218\n",
      "Epoch 29/50\n",
      "\u001b[1m3/3\u001b[0m \u001b[32m━━━━━━━━━━━━━━━━━━━━\u001b[0m\u001b[37m\u001b[0m \u001b[1m39s\u001b[0m 13s/step - accuracy: 0.6719 - loss: 0.6360 - val_accuracy: 0.3333 - val_loss: 0.8218\n",
      "Epoch 30/50\n",
      "\u001b[1m3/3\u001b[0m \u001b[32m━━━━━━━━━━━━━━━━━━━━\u001b[0m\u001b[37m\u001b[0m \u001b[1m39s\u001b[0m 13s/step - accuracy: 0.5938 - loss: 0.6789 - val_accuracy: 0.3333 - val_loss: 0.8209\n",
      "Epoch 31/50\n",
      "\u001b[1m3/3\u001b[0m \u001b[32m━━━━━━━━━━━━━━━━━━━━\u001b[0m\u001b[37m\u001b[0m \u001b[1m40s\u001b[0m 13s/step - accuracy: 0.6719 - loss: 0.6361 - val_accuracy: 0.3333 - val_loss: 0.8208\n",
      "Epoch 32/50\n",
      "\u001b[1m3/3\u001b[0m \u001b[32m━━━━━━━━━━━━━━━━━━━━\u001b[0m\u001b[37m\u001b[0m \u001b[1m37s\u001b[0m 13s/step - accuracy: 0.5625 - loss: 0.6960 - val_accuracy: 0.3333 - val_loss: 0.8196\n",
      "Epoch 33/50\n",
      "\u001b[1m3/3\u001b[0m \u001b[32m━━━━━━━━━━━━━━━━━━━━\u001b[0m\u001b[37m\u001b[0m \u001b[1m38s\u001b[0m 13s/step - accuracy: 0.6406 - loss: 0.6532 - val_accuracy: 0.3333 - val_loss: 0.8194\n",
      "Epoch 34/50\n",
      "\u001b[1m3/3\u001b[0m \u001b[32m━━━━━━━━━━━━━━━━━━━━\u001b[0m\u001b[37m\u001b[0m \u001b[1m38s\u001b[0m 13s/step - accuracy: 0.6250 - loss: 0.6617 - val_accuracy: 0.3333 - val_loss: 0.8188\n",
      "Epoch 35/50\n",
      "\u001b[1m3/3\u001b[0m \u001b[32m━━━━━━━━━━━━━━━━━━━━\u001b[0m\u001b[37m\u001b[0m \u001b[1m38s\u001b[0m 13s/step - accuracy: 0.5625 - loss: 0.6954 - val_accuracy: 0.3333 - val_loss: 0.8175\n",
      "Epoch 36/50\n",
      "\u001b[1m3/3\u001b[0m \u001b[32m━━━━━━━━━━━━━━━━━━━━\u001b[0m\u001b[37m\u001b[0m \u001b[1m38s\u001b[0m 13s/step - accuracy: 0.6406 - loss: 0.6533 - val_accuracy: 0.3333 - val_loss: 0.8172\n",
      "Epoch 37/50\n",
      "\u001b[1m3/3\u001b[0m \u001b[32m━━━━━━━━━━━━━━━━━━━━\u001b[0m\u001b[37m\u001b[0m \u001b[1m38s\u001b[0m 13s/step - accuracy: 0.6250 - loss: 0.6616 - val_accuracy: 0.3333 - val_loss: 0.8169\n",
      "Epoch 38/50\n",
      "\u001b[1m3/3\u001b[0m \u001b[32m━━━━━━━━━━━━━━━━━━━━\u001b[0m\u001b[37m\u001b[0m \u001b[1m37s\u001b[0m 13s/step - accuracy: 0.6250 - loss: 0.6616 - val_accuracy: 0.3333 - val_loss: 0.8166\n",
      "Epoch 39/50\n",
      "\u001b[1m3/3\u001b[0m \u001b[32m━━━━━━━━━━━━━━━━━━━━\u001b[0m\u001b[37m\u001b[0m \u001b[1m37s\u001b[0m 13s/step - accuracy: 0.6562 - loss: 0.6450 - val_accuracy: 0.3333 - val_loss: 0.8165\n",
      "Epoch 40/50\n",
      "\u001b[1m3/3\u001b[0m \u001b[32m━━━━━━━━━━━━━━━━━━━━\u001b[0m\u001b[37m\u001b[0m \u001b[1m39s\u001b[0m 14s/step - accuracy: 0.6250 - loss: 0.6616 - val_accuracy: 0.3333 - val_loss: 0.8161\n",
      "Epoch 41/50\n",
      "\u001b[1m3/3\u001b[0m \u001b[32m━━━━━━━━━━━━━━━━━━━━\u001b[0m\u001b[37m\u001b[0m \u001b[1m38s\u001b[0m 13s/step - accuracy: 0.6875 - loss: 0.6286 - val_accuracy: 0.3333 - val_loss: 0.8162\n",
      "Epoch 42/50\n",
      "\u001b[1m3/3\u001b[0m \u001b[32m━━━━━━━━━━━━━━━━━━━━\u001b[0m\u001b[37m\u001b[0m \u001b[1m38s\u001b[0m 13s/step - accuracy: 0.6562 - loss: 0.6451 - val_accuracy: 0.3333 - val_loss: 0.8163\n",
      "Epoch 43/50\n",
      "\u001b[1m3/3\u001b[0m \u001b[32m━━━━━━━━━━━━━━━━━━━━\u001b[0m\u001b[37m\u001b[0m \u001b[1m41s\u001b[0m 14s/step - accuracy: 0.6250 - loss: 0.6616 - val_accuracy: 0.3333 - val_loss: 0.8157\n",
      "Epoch 44/50\n",
      "\u001b[1m3/3\u001b[0m \u001b[32m━━━━━━━━━━━━━━━━━━━━\u001b[0m\u001b[37m\u001b[0m \u001b[1m38s\u001b[0m 13s/step - accuracy: 0.6250 - loss: 0.6616 - val_accuracy: 0.3333 - val_loss: 0.8152\n",
      "Epoch 45/50\n",
      "\u001b[1m3/3\u001b[0m \u001b[32m━━━━━━━━━━━━━━━━━━━━\u001b[0m\u001b[37m\u001b[0m \u001b[1m39s\u001b[0m 13s/step - accuracy: 0.7344 - loss: 0.6042 - val_accuracy: 0.3333 - val_loss: 0.8157\n",
      "Epoch 46/50\n",
      "\u001b[1m3/3\u001b[0m \u001b[32m━━━━━━━━━━━━━━━━━━━━\u001b[0m\u001b[37m\u001b[0m \u001b[1m39s\u001b[0m 14s/step - accuracy: 0.5469 - loss: 0.7031 - val_accuracy: 0.3333 - val_loss: 0.8145\n",
      "Epoch 47/50\n",
      "\u001b[1m3/3\u001b[0m \u001b[32m━━━━━━━━━━━━━━━━━━━━\u001b[0m\u001b[37m\u001b[0m \u001b[1m38s\u001b[0m 13s/step - accuracy: 0.6719 - loss: 0.6372 - val_accuracy: 0.3333 - val_loss: 0.8143\n",
      "Epoch 48/50\n",
      "\u001b[1m3/3\u001b[0m \u001b[32m━━━━━━━━━━━━━━━━━━━━\u001b[0m\u001b[37m\u001b[0m \u001b[1m38s\u001b[0m 13s/step - accuracy: 0.5625 - loss: 0.6944 - val_accuracy: 0.3333 - val_loss: 0.8133\n",
      "Epoch 49/50\n",
      "\u001b[1m3/3\u001b[0m \u001b[32m━━━━━━━━━━━━━━━━━━━━\u001b[0m\u001b[37m\u001b[0m \u001b[1m39s\u001b[0m 13s/step - accuracy: 0.6406 - loss: 0.6535 - val_accuracy: 0.3333 - val_loss: 0.8135\n",
      "Epoch 50/50\n",
      "\u001b[1m3/3\u001b[0m \u001b[32m━━━━━━━━━━━━━━━━━━━━\u001b[0m\u001b[37m\u001b[0m \u001b[1m38s\u001b[0m 13s/step - accuracy: 0.6562 - loss: 0.6453 - val_accuracy: 0.3333 - val_loss: 0.8135\n"
     ]
    },
    {
     "data": {
      "text/plain": [
       "<keras.src.callbacks.history.History at 0x1c88fe46240>"
      ]
     },
     "execution_count": 41,
     "metadata": {},
     "output_type": "execute_result"
    }
   ],
   "source": [
    "capsule_model.fit(X_train_lstm, y_train_lstm, epochs=50, batch_size=8, validation_split=0.2)"
   ]
  },
  {
   "cell_type": "code",
   "execution_count": 42,
   "id": "00ded1c2-7cad-4715-8560-ceb68695af56",
   "metadata": {},
   "outputs": [
    {
     "name": "stdout",
     "output_type": "stream",
     "text": [
      "\u001b[1m1/1\u001b[0m \u001b[32m━━━━━━━━━━━━━━━━━━━━\u001b[0m\u001b[37m\u001b[0m \u001b[1m12s\u001b[0m 12s/step - accuracy: 0.5667 - loss: 0.6920\n",
      "Cnn Model Test Accuracy: 0.5666666626930237\n"
     ]
    }
   ],
   "source": [
    "# model evalution\n",
    "loss, accuracy = capsule_model.evaluate(X_train_lstm, y_train_lstm)\n",
    "print(f'Cnn Model Test Accuracy: {accuracy}')"
   ]
  },
  {
   "cell_type": "code",
   "execution_count": 43,
   "id": "57e1b959-9b70-452d-bb9e-45b05443cab7",
   "metadata": {},
   "outputs": [],
   "source": [
    "import keras"
   ]
  },
  {
   "cell_type": "code",
   "execution_count": 44,
   "id": "2a2e774e-f51e-4f65-8484-609739917b2b",
   "metadata": {},
   "outputs": [],
   "source": [
    "keras.saving.save_model(capsule_model, 'capsule_model.keras')"
   ]
  },
  {
   "cell_type": "code",
   "execution_count": 45,
   "id": "31140a57-6a14-48f9-ad6b-6fb1b8da41f6",
   "metadata": {},
   "outputs": [
    {
     "name": "stdout",
     "output_type": "stream",
     "text": [
      "Requirement already satisfied: keras in c:\\program files\\drag software\\anaconda\\lib\\site-packages (3.5.0)Note: you may need to restart the kernel to use updated packages.\n",
      "\n",
      "Requirement already satisfied: absl-py in c:\\program files\\drag software\\anaconda\\lib\\site-packages (from keras) (2.1.0)\n",
      "Requirement already satisfied: numpy in c:\\program files\\drag software\\anaconda\\lib\\site-packages (from keras) (1.26.4)\n",
      "Requirement already satisfied: rich in c:\\program files\\drag software\\anaconda\\lib\\site-packages (from keras) (13.3.5)\n",
      "Requirement already satisfied: namex in c:\\program files\\drag software\\anaconda\\lib\\site-packages (from keras) (0.0.8)\n",
      "Requirement already satisfied: h5py in c:\\program files\\drag software\\anaconda\\lib\\site-packages (from keras) (3.11.0)\n",
      "Requirement already satisfied: optree in c:\\program files\\drag software\\anaconda\\lib\\site-packages (from keras) (0.12.1)\n",
      "Requirement already satisfied: ml-dtypes in c:\\program files\\drag software\\anaconda\\lib\\site-packages (from keras) (0.4.0)\n",
      "Requirement already satisfied: packaging in c:\\program files\\drag software\\anaconda\\lib\\site-packages (from keras) (23.2)\n",
      "Requirement already satisfied: typing-extensions>=4.5.0 in c:\\program files\\drag software\\anaconda\\lib\\site-packages (from optree->keras) (4.11.0)\n",
      "Requirement already satisfied: markdown-it-py<3.0.0,>=2.2.0 in c:\\program files\\drag software\\anaconda\\lib\\site-packages (from rich->keras) (2.2.0)\n",
      "Requirement already satisfied: pygments<3.0.0,>=2.13.0 in c:\\program files\\drag software\\anaconda\\lib\\site-packages (from rich->keras) (2.15.1)\n",
      "Requirement already satisfied: mdurl~=0.1 in c:\\program files\\drag software\\anaconda\\lib\\site-packages (from markdown-it-py<3.0.0,>=2.2.0->rich->keras) (0.1.0)\n"
     ]
    }
   ],
   "source": [
    "pip install keras"
   ]
  },
  {
   "cell_type": "code",
   "execution_count": 46,
   "id": "a96ad318-c30e-4687-9043-458573ef3244",
   "metadata": {},
   "outputs": [
    {
     "ename": "NameError",
     "evalue": "name 'stop123' is not defined",
     "output_type": "error",
     "traceback": [
      "\u001b[1;31m---------------------------------------------------------------------------\u001b[0m",
      "\u001b[1;31mNameError\u001b[0m                                 Traceback (most recent call last)",
      "Cell \u001b[1;32mIn[46], line 1\u001b[0m\n\u001b[1;32m----> 1\u001b[0m stop123\n",
      "\u001b[1;31mNameError\u001b[0m: name 'stop123' is not defined"
     ]
    }
   ],
   "source": [
    "stop123"
   ]
  },
  {
   "cell_type": "markdown",
   "id": "c2b92bf3-3e42-468c-b01c-471fe864c57e",
   "metadata": {},
   "source": [
    "### Gans"
   ]
  },
  {
   "cell_type": "code",
   "execution_count": null,
   "id": "1e508d75-e294-405e-b0cb-87b9c9361c9e",
   "metadata": {},
   "outputs": [],
   "source": [
    "from tensorflow.keras.models import Sequential\n",
    "from tensorflow.keras.layers import Conv2D, Flatten, Dense, LeakyReLU, Dropout"
   ]
  },
  {
   "cell_type": "code",
   "execution_count": null,
   "id": "a5098efc-daa6-46b9-875d-0c72e2a4184e",
   "metadata": {},
   "outputs": [],
   "source": [
    "from tensorflow.keras.layers import Dense, Reshape, Conv2DTranspose, LeakyReLU, BatchNormalization\n",
    "from tensorflow.keras.models import Sequential"
   ]
  },
  {
   "cell_type": "markdown",
   "id": "8fe55130-8e76-4938-bd44-1576ac701149",
   "metadata": {},
   "source": [
    "### Generator Model"
   ]
  },
  {
   "cell_type": "code",
   "execution_count": null,
   "id": "8be762d6-d434-443a-8cc0-44ea86609778",
   "metadata": {},
   "outputs": [],
   "source": [
    "latent_dim = 20  # Example latent dimension\n",
    "\n",
    "def build_generator(latent_dim):\n",
    "    model_gen = Sequential()\n",
    "    \n",
    "    # Fully connected layer\n",
    "    model_gen.add(Dense(16 * 16 * 256, input_dim=latent_dim))\n",
    "    model_gen.add(Reshape((16, 16, 256)))\n",
    "    \n",
    "    # Transposed Convolutional Layers to upscale to (128, 128, 3)\n",
    "    model_gen.add(Conv2DTranspose(128, (4, 4), strides=(2, 2), padding='same'))\n",
    "    model_gen.add(BatchNormalization())\n",
    "    model_gen.add(LeakyReLU(alpha=0.2))\n",
    "    \n",
    "    model_gen.add(Conv2DTranspose(64, (4, 4), strides=(2, 2), padding='same'))\n",
    "    model_gen.add(BatchNormalization())\n",
    "    model_gen.add(LeakyReLU(alpha=0.2))\n",
    "    \n",
    "    model_gen.add(Conv2DTranspose(3, (4, 4), strides=(2, 2), padding='same', activation='tanh'))\n",
    "    \n",
    "    return model_gen\n",
    "\n",
    "generator = build_generator(latent_dim)"
   ]
  },
  {
   "cell_type": "code",
   "execution_count": null,
   "id": "fe38363d-4dbc-463b-b080-d0adbf60bf1d",
   "metadata": {},
   "outputs": [],
   "source": [
    "def build_discriminator(input_shape=(128, 128, 3)):\n",
    "    model_dis = Sequential()\n",
    "    \n",
    "    # Convolutional Layers\n",
    "    model_dis.add(Conv2D(64, (3, 3), padding='same', input_shape=input_shape))\n",
    "    model_dis.add(LeakyReLU(alpha=0.2))\n",
    "    \n",
    "    model_dis.add(Conv2D(128, (3, 3), padding='same'))\n",
    "    model_dis.add(LeakyReLU(alpha=0.2))\n",
    "    \n",
    "    model_dis.add(Flatten())\n",
    "    model_dis.add(Dense(1, activation='sigmoid'))  # Output layer with sigmoid activation\n",
    "    \n",
    "    return model_dis\n",
    "\n",
    "discriminator = build_discriminator()\n",
    "discriminator.compile(optimizer='adam', loss='binary_crossentropy', metrics=['accuracy'])"
   ]
  },
  {
   "cell_type": "code",
   "execution_count": null,
   "id": "fdec9fb2-9228-4ea9-b1f5-b73daa434cd4",
   "metadata": {},
   "outputs": [],
   "source": [
    "from tensorflow.keras.layers import Dense, Reshape, Conv2DTranspose, BatchNormalization, Activation"
   ]
  },
  {
   "cell_type": "code",
   "execution_count": null,
   "id": "4ebac7f0-be79-43df-87a5-eb81ffe21714",
   "metadata": {},
   "outputs": [],
   "source": [
    "## build and compile ghans\n",
    "\n",
    "from tensorflow.keras.layers import Input\n",
    "from tensorflow.keras.models import Model\n",
    "\n",
    "def build_gan(generator, discriminator):\n",
    "    discriminator.trainable = False  # Ensure the discriminator is not trainable within the GAN\n",
    "    \n",
    "    gan_input = Input(shape=(latent_dim,))\n",
    "    img = generator(gan_input)\n",
    "    gan_output = discriminator(img)\n",
    "    \n",
    "    gan = Model(gan_input, gan_output)\n",
    "    gan.compile(optimizer='adam', loss='binary_crossentropy')\n",
    "    \n",
    "    return gan\n",
    "\n",
    "gan = build_gan(generator, discriminator)\n"
   ]
  },
  {
   "cell_type": "code",
   "execution_count": null,
   "id": "3b1bebc1-3f45-4f07-b848-cb4da019c929",
   "metadata": {},
   "outputs": [],
   "source": [
    "gan.summary()"
   ]
  },
  {
   "cell_type": "code",
   "execution_count": null,
   "id": "22fa6843-ebf1-4f4f-aeec-bcfebdedc4f8",
   "metadata": {},
   "outputs": [],
   "source": [
    "import numpy as np\n",
    "import matplotlib.pyplot as plt\n",
    "\n",
    "def generate_real_samples(X_train, n_samples):\n",
    "    idx = np.random.randint(0, X_train.shape[0], n_samples)\n",
    "    X = X_train[idx]\n",
    "    y = np.ones((n_samples, 1))  # Label as real (1)\n",
    "    return X, y\n",
    "\n",
    "def generate_fake_samples(generator, latent_dim, n_samples):\n",
    "    x_input = np.random.randn(latent_dim * n_samples)\n",
    "    x_input = x_input.reshape(n_samples, latent_dim)\n",
    "    X = generator.predict(x_input)\n",
    "    y = np.zeros((n_samples, 1))  # Label as fake (0)\n",
    "    return X, y\n",
    "\n",
    "def save_plot(examples, epoch, n=5):\n",
    "    examples = (examples + 1) / 2.0  # Scale from [-1, 1] to [0, 1]\n",
    "    for i in range(n * n):\n",
    "        plt.subplot(n, n, 1 + i)\n",
    "        plt.axis('off')\n",
    "        plt.imshow(examples[i])\n",
    "    plt.savefig(f\"generated_plot_e{epoch+1}.png\")\n",
    "    plt.close()\n",
    "\n",
    "def train_gan(gan, generator, discriminator, X_train, latent_dim, n_epochs=100, n_batch=64, eval_interval=20):\n",
    "    batch_per_epoch = X_train.shape[0] // n_batch\n",
    "    half_batch = n_batch // 2\n",
    "\n",
    "    for epoch in range(n_epochs):\n",
    "        for _ in range(batch_per_epoch):\n",
    "            # Train Discriminator on real and fake images\n",
    "            X_real, y_real = generate_real_samples(X_train, half_batch)\n",
    "            X_fake, y_fake = generate_fake_samples(generator, latent_dim, half_batch)\n",
    "            d_loss_real = discriminator.train_on_batch(X_real, y_real)\n",
    "            d_loss_fake = discriminator.train_on_batch(X_fake, y_fake)\n",
    "\n",
    "            # Train Generator via the GAN\n",
    "            x_gan = np.random.randn(latent_dim * n_batch)\n",
    "            x_gan = x_gan.reshape(n_batch, latent_dim)\n",
    "            y_gan = np.ones((n_batch, 1))  # Attempt to fool the discriminator\n",
    "            g_loss = gan.train_on_batch(x_gan, y_gan)\n",
    "\n",
    "        # Evaluate and save model performance at set intervals\n",
    "        if (epoch + 1) % eval_interval == 0:\n",
    "            print(f\"Epoch {epoch + 1}/{n_epochs} - D loss real: {d_loss_real}, D loss fake: {d_loss_fake}, G loss: {g_loss}\")\n",
    "            X_fake, _ = generate_fake_samples(generator, latent_dim, 25)\n",
    "            save_plot(X_fake, epoch)\n",
    "\n",
    "# Assume X_train is your training dataset loaded here\n",
    "# X_train = ...\n",
    "\n",
    "train_gan(gan, generator, discriminator, X_train, latent_dim)"
   ]
  },
  {
   "cell_type": "code",
   "execution_count": null,
   "id": "5928039b-db9c-418c-a74d-22ab44e7670a",
   "metadata": {},
   "outputs": [],
   "source": [
    "model_gan.save('model_gan.h5')\n",
    "model_dis.save('model_dis.h5')"
   ]
  },
  {
   "cell_type": "code",
   "execution_count": null,
   "id": "50a18f50-ad53-42d3-bd10-e29c05285090",
   "metadata": {},
   "outputs": [],
   "source": [
    "from tensorflow.keras.preprocessing.image import img_to_array, array_to_img"
   ]
  },
  {
   "cell_type": "code",
   "execution_count": null,
   "id": "1202594e-779c-478a-8cb9-0a915a4cd2cb",
   "metadata": {},
   "outputs": [],
   "source": [
    "from tensorflow.keras.models import load_model\n",
    "from tensorflow.keras.layers import Input"
   ]
  },
  {
   "cell_type": "code",
   "execution_count": null,
   "id": "7d2ad732-10d0-475d-8bb8-fefbf9fe9603",
   "metadata": {},
   "outputs": [],
   "source": []
  },
  {
   "cell_type": "code",
   "execution_count": null,
   "id": "3fa7fdb3-230d-4271-95ca-790afc4792fe",
   "metadata": {},
   "outputs": [],
   "source": []
  },
  {
   "cell_type": "code",
   "execution_count": null,
   "id": "55b54289-54df-401e-ba69-f36db85bf5da",
   "metadata": {},
   "outputs": [],
   "source": []
  },
  {
   "cell_type": "code",
   "execution_count": null,
   "id": "89d3a343-bcbb-4d3c-a60a-604b53df3b72",
   "metadata": {},
   "outputs": [],
   "source": []
  },
  {
   "cell_type": "code",
   "execution_count": null,
   "id": "c180984c-223a-4ce7-9967-6de72371b141",
   "metadata": {},
   "outputs": [],
   "source": []
  },
  {
   "cell_type": "code",
   "execution_count": null,
   "id": "aac8eab0-45e3-4e46-95c0-bface418088c",
   "metadata": {},
   "outputs": [],
   "source": []
  },
  {
   "cell_type": "code",
   "execution_count": null,
   "id": "d94071ff-3b3b-4948-9574-3100b4683311",
   "metadata": {},
   "outputs": [],
   "source": []
  },
  {
   "cell_type": "code",
   "execution_count": null,
   "id": "5a4c7ac7-dfe8-4218-a370-7b108b0147b8",
   "metadata": {},
   "outputs": [],
   "source": [
    "def create_frame_sequences(frames, sequence_length):\n",
    "    sequences = []\n",
    "    for i in range(len(frames) - sequence_length + 1):\n",
    "        sequences.append(frames[i:i + sequence_length])\n",
    "    return np.array(sequences)"
   ]
  },
  {
   "cell_type": "code",
   "execution_count": null,
   "id": "9047baa4-3c05-4eae-8bc0-d45482efd6f6",
   "metadata": {},
   "outputs": [],
   "source": [
    "# Define the sequence length (e.g., 10 frames per sequence)\n",
    "sequence_length = 10"
   ]
  },
  {
   "cell_type": "code",
   "execution_count": null,
   "id": "bc87157a-93fb-4de9-9d7e-709859fd8e49",
   "metadata": {},
   "outputs": [],
   "source": [
    "# Prepare sequential data for LSTM\n",
    "X_train_lstm = create_frame_sequences(X_train, sequence_length)\n",
    "X_test_lstm = create_frame_sequences(X_test, sequence_length)"
   ]
  },
  {
   "cell_type": "code",
   "execution_count": null,
   "id": "12ca1c59-bb0f-4e78-8d3a-34a8da2e1010",
   "metadata": {},
   "outputs": [],
   "source": [
    "X_test_lstm"
   ]
  },
  {
   "cell_type": "code",
   "execution_count": null,
   "id": "888b77cd-0a5e-4a64-8093-a323dc0c7fe9",
   "metadata": {},
   "outputs": [],
   "source": [
    "# Adjust y_train and y_test for the LSTM sequences\n",
    "y_train_lstm = y_train[sequence_length - 1:]  # Match the sequence length\n",
    "y_test_lstm = y_test[sequence_length - 1:]"
   ]
  },
  {
   "cell_type": "markdown",
   "id": "cc4a0d3e-cae5-4277-9854-adf346b77a41",
   "metadata": {},
   "source": [
    "### Final evalution of all models"
   ]
  },
  {
   "cell_type": "code",
   "execution_count": null,
   "id": "b1eceec2-6019-494c-8e1f-0924b76f67fe",
   "metadata": {},
   "outputs": [],
   "source": [
    "from sklearn.metrics import classification_report, confusion_matrix\n",
    "\n",
    "## CNN Evaluation\n",
    "cnn_loss, cnn_accuracy = cnn_model.evaluate(X_test, y_test)\n",
    "print(f\"CNN Loss: {cnn_loss}, Accuracy: {cnn_accuracy}\")\n",
    "\n",
    "## LSTM Evaluation\n",
    "lstm_loss, lstm_accuracy = lstm_model.evaluate(X_test_lstm, y_test_lstm)\n",
    "print(f\"LSTM Loss: {lstm_loss}, Accuracy: {lstm_accuracy}\")\n",
    "\n",
    "## capsule Network Evaluation\n",
    "capsule_loss, capsule_accuracy = capsule_model.evaluate(X_test, y_test)\n",
    "print(f\"Capsule Network Loss: {capsule_loss}, Accuracy: {capsule_accuracy}\")\n",
    "\n",
    "## classification Report and Confusion Matrix\n",
    "y_pred_cnn = (cnn_model.predict(X_test) > 0.5).astype(\"int32\")\n",
    "y_pred_lstm = (lstm_model.predict(X_test_lstm) > 0.5).astype(\"int32\")\n",
    "y_pred_capsule = (capsule_model.predict(X_test) > 0.5).astype(\"int32\")\n",
    "\n",
    "print(\"CNN Classification Report:\\n\", classification_report(y_test, y_pred_cnn))\n",
    "print(\"CNN Confusion Matrix:\\n\", confusion_matrix(y_test, y_pred_cnn))\n",
    "\n",
    "print(\"LSTM Classification Report:\\n\", classification_report(y_test_lstm, y_pred_lstm))\n",
    "print(\"LSTM Confusion Matrix:\\n\", confusion_matrix(y_test_lstm, y_pred_lstm))\n",
    "\n",
    "print(\"Capsule Network Classification Report:\\n\", classification_report(y_test, y_pred_capsule))\n",
    "print(\"Capsule Network Confusion Matrix:\\n\", confusion_matrix(y_test, y_pred_capsule))\n"
   ]
  },
  {
   "cell_type": "code",
   "execution_count": null,
   "id": "0997aecc-b1ef-4c34-84c4-f88fd8d79841",
   "metadata": {},
   "outputs": [],
   "source": []
  },
  {
   "cell_type": "code",
   "execution_count": null,
   "id": "78752936-3c99-4415-8597-1b0ca8696dea",
   "metadata": {},
   "outputs": [],
   "source": []
  },
  {
   "cell_type": "code",
   "execution_count": null,
   "id": "ac7cdcae-702c-4f85-9770-a302e3a39b82",
   "metadata": {},
   "outputs": [],
   "source": []
  },
  {
   "cell_type": "code",
   "execution_count": null,
   "id": "36595c4f-204b-4375-88ec-e4a9415675ff",
   "metadata": {},
   "outputs": [],
   "source": []
  },
  {
   "cell_type": "code",
   "execution_count": null,
   "id": "dc08d428-706b-4e85-bbe6-27b1a498cfc8",
   "metadata": {},
   "outputs": [],
   "source": []
  },
  {
   "cell_type": "code",
   "execution_count": null,
   "id": "0a8bf726-4d66-4c09-8992-e7066801380f",
   "metadata": {},
   "outputs": [],
   "source": []
  },
  {
   "cell_type": "code",
   "execution_count": null,
   "id": "e2438ef9-6b54-4c22-98ed-8e64a49e5205",
   "metadata": {},
   "outputs": [],
   "source": []
  },
  {
   "cell_type": "code",
   "execution_count": null,
   "id": "09e77a7c-19d6-4058-986f-5cf5c141734e",
   "metadata": {},
   "outputs": [],
   "source": []
  },
  {
   "cell_type": "code",
   "execution_count": null,
   "id": "977ce89e-5d23-41cc-86e5-1433662fb5a3",
   "metadata": {},
   "outputs": [],
   "source": []
  },
  {
   "cell_type": "code",
   "execution_count": null,
   "id": "876c7c08-41f0-4e41-8eba-fb09ac085b8d",
   "metadata": {},
   "outputs": [],
   "source": []
  },
  {
   "cell_type": "code",
   "execution_count": null,
   "id": "976f1db3-a1e4-43b8-84dd-c8cabf9fec0f",
   "metadata": {},
   "outputs": [],
   "source": []
  },
  {
   "cell_type": "code",
   "execution_count": null,
   "id": "ca41a0fe-650e-4e7c-8341-c1755316131f",
   "metadata": {},
   "outputs": [],
   "source": []
  },
  {
   "cell_type": "code",
   "execution_count": null,
   "id": "6c42b138-5538-4504-a97e-b173101b9d90",
   "metadata": {},
   "outputs": [],
   "source": []
  },
  {
   "cell_type": "code",
   "execution_count": null,
   "id": "e99e59e2-1298-489a-8dc1-ce4826b4d10d",
   "metadata": {},
   "outputs": [],
   "source": []
  },
  {
   "cell_type": "code",
   "execution_count": null,
   "id": "e0efbfde-91c8-456a-a769-272ab2042b10",
   "metadata": {},
   "outputs": [],
   "source": []
  },
  {
   "cell_type": "markdown",
   "id": "c2108448-a60f-40d9-a4f4-b0d8cbbd9b27",
   "metadata": {},
   "source": [
    "### Audio- Video"
   ]
  },
  {
   "cell_type": "code",
   "execution_count": null,
   "id": "b73c117f-d664-474f-97c7-afc797e88964",
   "metadata": {},
   "outputs": [],
   "source": [
    "import cv2\n",
    "import os"
   ]
  },
  {
   "cell_type": "code",
   "execution_count": null,
   "id": "e398c855-3ce0-4684-9811-1bc7560bad5a",
   "metadata": {},
   "outputs": [],
   "source": [
    "def extract_frames(video_path, output_folder, frame_rate=1):\n",
    "    os.makedirs(output_folder, exist_ok=True)\n",
    "    cap = cv2.VideoCapture(video_path)\n",
    "    count = 0\n",
    "    success, frame = cap.read()\n",
    "    while success:\n",
    "        if count % frame_rate == 0:\n",
    "            cv2.imwrite(os.path.join(output_folder, f\"frame_{count:04d}.jpg\"), frame)\n",
    "        success, frame = cap.read()\n",
    "        count += 1\n",
    "    cap.release()\n",
    "\n",
    "# Example usage\n",
    "extract_frames(r\"C:\\Users\\101ri\\OneDrive\\Desktop\\deep fake detector\\Notebook\\Celeb-real\\id0_0000.mp4\", \"video_frames\")"
   ]
  },
  {
   "cell_type": "code",
   "execution_count": null,
   "id": "a62f331e-c38f-43b2-92fe-1fa775bf01d4",
   "metadata": {},
   "outputs": [],
   "source": []
  },
  {
   "cell_type": "code",
   "execution_count": null,
   "id": "6d689592-3140-46db-a249-40b0339dd02a",
   "metadata": {},
   "outputs": [],
   "source": []
  },
  {
   "cell_type": "code",
   "execution_count": null,
   "id": "6a113fbf-ac4e-4447-8538-fd65d30faaef",
   "metadata": {},
   "outputs": [],
   "source": [
    "import librosa\n",
    "import librosa.display\n",
    "import numpy as np\n",
    "import matplotlib.pyplot as plt\n",
    "\n",
    "def extract_audio(video_path, output_audio_path):\n",
    "    os.system(f\"ffmpeg -i {video_path} -q:a 0 -map a {output_audio_path}\")\n",
    "\n",
    "def audio_to_melspectrogram(audio_path):\n",
    "    y, sr = librosa.load(audio_path)\n",
    "    S = librosa.feature.melspectrogram(y=y, sr=sr, n_mels=128)\n",
    "    log_S = librosa.power_to_db(S, ref=np.max)\n",
    "    return log_S, sr\n",
    "\n",
    "def save_melspectrogram(log_S, output_path):\n",
    "    plt.figure(figsize=(10, 4))\n",
    "    librosa.display.specshow(log_S, sr=22050, x_axis='time', y_axis='mel')\n",
    "    plt.colorbar(format='%+02.0f dB')\n",
    "    plt.savefig(output_path)\n",
    "    plt.close()\n",
    "\n",
    "# Example usage\n",
    "extract_audio(r\"C:\\Users\\101ri\\OneDrive\\Desktop\\deep fake detector\\Notebook\\Celeb-real\\id0_0001.mp4\", \"audio.wav\")\n",
    "log_S, sr = audio_to_melspectrogram(\"audio.wav\")\n",
    "save_melspectrogram(log_S, \"melspectrogram.png\")\n"
   ]
  },
  {
   "cell_type": "code",
   "execution_count": null,
   "id": "1edb4f03-3908-4c1e-8649-da46bdbf9a23",
   "metadata": {},
   "outputs": [],
   "source": [
    "ffmpeg -version\n"
   ]
  },
  {
   "cell_type": "code",
   "execution_count": null,
   "id": "5dde740c-3baf-439f-bb8e-15df81876ddb",
   "metadata": {},
   "outputs": [],
   "source": []
  },
  {
   "cell_type": "code",
   "execution_count": null,
   "id": "75d33211-a946-4160-a2b2-ae97ac6bce8f",
   "metadata": {},
   "outputs": [],
   "source": []
  },
  {
   "cell_type": "code",
   "execution_count": null,
   "id": "61c90d07-000f-4db0-b104-0e1d74b92603",
   "metadata": {},
   "outputs": [],
   "source": []
  }
 ],
 "metadata": {
  "kernelspec": {
   "display_name": "Python 3 (ipykernel)",
   "language": "python",
   "name": "python3"
  },
  "language_info": {
   "codemirror_mode": {
    "name": "ipython",
    "version": 3
   },
   "file_extension": ".py",
   "mimetype": "text/x-python",
   "name": "python",
   "nbconvert_exporter": "python",
   "pygments_lexer": "ipython3",
   "version": "3.12.4"
  }
 },
 "nbformat": 4,
 "nbformat_minor": 5
}
